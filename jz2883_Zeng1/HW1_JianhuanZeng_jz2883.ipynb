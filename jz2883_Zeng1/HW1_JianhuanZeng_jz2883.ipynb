{
 "cells": [
  {
   "cell_type": "markdown",
   "metadata": {},
   "source": [
    "## Problem 1\n",
    "Please extend the code to compute:\n",
    "\n",
    "1). The gradient of hinge loss when label = 1.0, x = 1.001 \n",
    "2). The gradient of hinge loss when label = 1.0, x = 0.009\n",
    "3). Plot the curves of gradients and losses for x in [-2, 2] \n",
    "\n",
    "hint: in machine learning, the hinge loss is a loss function used for training classifiers. The hinge loss is used for \"maximum-margin\" classification, most notably for support vector machines (SVMs)"
   ]
  },
  {
   "cell_type": "code",
   "execution_count": 2,
   "metadata": {},
   "outputs": [
    {
     "name": "stderr",
     "output_type": "stream",
     "text": [
      "/Users/cengjianhuan/anaconda3/lib/python3.6/importlib/_bootstrap.py:219: RuntimeWarning: compiletime version 3.5 of module 'tensorflow.python.framework.fast_tensor_util' does not match runtime version 3.6\n",
      "  return f(*args, **kwds)\n",
      "/Users/cengjianhuan/anaconda3/lib/python3.6/site-packages/h5py/__init__.py:34: FutureWarning: Conversion of the second argument of issubdtype from `float` to `np.floating` is deprecated. In future, it will be treated as `np.float64 == np.dtype(float).type`.\n",
      "  from ._conv import register_converters as _register_converters\n"
     ]
    }
   ],
   "source": [
    "import tensorflow as tf\n",
    "from tensorflow import keras\n",
    "import numpy as np\n",
    "\n",
    "%matplotlib inline\n",
    "import matplotlib.pyplot as plt"
   ]
  },
  {
   "cell_type": "code",
   "execution_count": 43,
   "metadata": {
    "collapsed": true
   },
   "outputs": [],
   "source": [
    "label = tf.constant(1.0, dtype=tf.float32)\n",
    "x = tf.placeholder(tf.float32)\n",
    "\n",
    "loss_hin = tf.losses.hinge_loss(label, x)\n",
    "gradient_hin = tf.gradients(loss_hin, x)"
   ]
  },
  {
   "cell_type": "code",
   "execution_count": 7,
   "metadata": {},
   "outputs": [
    {
     "name": "stdout",
     "output_type": "stream",
     "text": [
      "Q1.1 x = 1.001 : hinge_loss, grad =  0.0 [-0.0]\n",
      "Q1.2 x = 0.009 : hinge_loss, grad =  0.991 [-1.0]\n"
     ]
    }
   ],
   "source": [
    "# 1). The gradient of hinge loss when label = 1.0, x = 1.001\n",
    "# 2). The gradient of hinge loss when label = 1.0, x = 0.009\n",
    "with tf.Session() as sess:\n",
    "    ci, gi = sess.run((loss_hin, gradient_hin), feed_dict={x: 1.001})\n",
    "    print('Q1.1 x = 1.001 : hinge_loss, grad = ', ci, gi)\n",
    "    ci, gi = sess.run((loss_hin, gradient_hin), feed_dict={x: 0.009})\n",
    "    print('Q1.2 x = 0.009 : hinge_loss, grad = ', ci, gi)"
   ]
  },
  {
   "cell_type": "code",
   "execution_count": 50,
   "metadata": {},
   "outputs": [
    {
     "data": {
      "text/plain": [
       "Text(0.5,0,'x')"
      ]
     },
     "execution_count": 50,
     "metadata": {},
     "output_type": "execute_result"
    },
    {
     "data": {
      "image/png": "[encoded data removed]",
      "text/plain": [
       "<matplotlib.figure.Figure at 0x18340a1128>"
      ]
     },
     "metadata": {},
     "output_type": "display_data"
    }
   ],
   "source": [
    "# 3). Plot the curves of gradients and losses for x in [-2, 2]\n",
    "with tf.Session() as sess:\n",
    "    c=[]\n",
    "    g=[]\n",
    "    x_range=np.arange(-2,2,0.1)\n",
    "    for i in x_range:\n",
    "        ci, gi = sess.run((loss_hin, gradient_hin), feed_dict={x: i})\n",
    "        c.append(ci)\n",
    "        g.append(gi)\n",
    "        \n",
    "# 3). Plot the curves of gradients and losses for x in [-2, 2]\n",
    "plt.subplot(2,1,1)\n",
    "plt.plot(x_range,g)\n",
    "plt.title('gradient_hin')\n",
    "plt.xticks([])\n",
    "plt.yticks([])\n",
    "plt.subplot(2,1,2)\n",
    "plt.plot(x_range,c)\n",
    "plt.title('loss_hin')\n",
    "plt.xlabel('x')"
   ]
  },
  {
   "cell_type": "markdown",
   "metadata": {},
   "source": [
    "## Problem 2\n",
    "import numpy\n",
    "xs = np.array([[-1.1, 1.0], [-1.0, 1.1], [-1.1, 1.1], [1.0, -1.1],[1.1, -1.0],[1.0, -1.0],\n",
    "                  [1.1, 1.1],[1.0, 0.9],[1.1, 1.0],  [-1.1, -1.0], [-1.1, -1.1], [-1.0, -1.1]],\n",
    "                dtype=np.float32)\n",
    "ys = np.array([1, 1, 1, 1, 1, 1, 0, 0, 0, 0, 0, 0], dtype=np.float32)\n",
    "ys = ys[:, None]"
   ]
  },
  {
   "cell_type": "code",
   "execution_count": 3,
   "metadata": {},
   "outputs": [],
   "source": [
    "xs = np.array([[-1.1, 1.0], [-1.0, 1.1], [-1.1, 1.1], [1.0, -1.1],[1.1, -1.0],[1.0, -1.0],\n",
    "                  [1.1, 1.1],[1.0, 0.9],[1.1, 1.0],  [-1.1, -1.0], [-1.1, -1.1], [-1.0, -1.1]],\n",
    "                dtype=np.float32)\n",
    "ys = np.array([1, 1, 1, 1, 1, 1, 0, 0, 0, 0, 0, 0], dtype=np.float32)\n",
    "ys = ys[:, None]"
   ]
  },
  {
   "cell_type": "code",
   "execution_count": 4,
   "metadata": {},
   "outputs": [
    {
     "name": "stderr",
     "output_type": "stream",
     "text": [
      "/Users/cengjianhuan/anaconda3/lib/python3.6/site-packages/sklearn/cross_validation.py:41: DeprecationWarning: This module was deprecated in version 0.18 in favor of the model_selection module into which all the refactored classes and functions are moved. Also note that the interface of the new CV iterators are different from that of this module. This module will be removed in 0.20.\n",
      "  \"This module will be removed in 0.20.\", DeprecationWarning)\n"
     ]
    }
   ],
   "source": [
    "from sklearn.cross_validation import train_test_split\n",
    "X_tr, X_ts, y_tr, y_ts = train_test_split(xs,ys)"
   ]
  },
  {
   "cell_type": "markdown",
   "metadata": {},
   "source": [
    "### Logistic regression"
   ]
  },
  {
   "cell_type": "code",
   "execution_count": 7,
   "metadata": {},
   "outputs": [
    {
     "name": "stdout",
     "output_type": "stream",
     "text": [
      "Epoch 1/20\n",
      "9/9 [==============================] - 0s 18ms/step - loss: 1.0396 - acc: 0.4444\n",
      "Epoch 2/20\n",
      "9/9 [==============================] - 0s 178us/step - loss: 1.0379 - acc: 0.4444\n",
      "Epoch 3/20\n",
      "9/9 [==============================] - 0s 225us/step - loss: 1.0362 - acc: 0.4444\n",
      "Epoch 4/20\n",
      "9/9 [==============================] - 0s 171us/step - loss: 1.0345 - acc: 0.4444\n",
      "Epoch 5/20\n",
      "9/9 [==============================] - 0s 234us/step - loss: 1.0328 - acc: 0.4444\n",
      "Epoch 6/20\n",
      "9/9 [==============================] - 0s 200us/step - loss: 1.0312 - acc: 0.4444\n",
      "Epoch 7/20\n",
      "9/9 [==============================] - 0s 252us/step - loss: 1.0295 - acc: 0.4444\n",
      "Epoch 8/20\n",
      "9/9 [==============================] - 0s 188us/step - loss: 1.0278 - acc: 0.4444\n",
      "Epoch 9/20\n",
      "9/9 [==============================] - 0s 182us/step - loss: 1.0261 - acc: 0.4444\n",
      "Epoch 10/20\n",
      "9/9 [==============================] - 0s 219us/step - loss: 1.0245 - acc: 0.4444\n",
      "Epoch 11/20\n",
      "9/9 [==============================] - 0s 262us/step - loss: 1.0228 - acc: 0.4444\n",
      "Epoch 12/20\n",
      "9/9 [==============================] - 0s 191us/step - loss: 1.0211 - acc: 0.4444\n",
      "Epoch 13/20\n",
      "9/9 [==============================] - 0s 189us/step - loss: 1.0195 - acc: 0.4444\n",
      "Epoch 14/20\n",
      "9/9 [==============================] - 0s 287us/step - loss: 1.0178 - acc: 0.4444\n",
      "Epoch 15/20\n",
      "9/9 [==============================] - 0s 241us/step - loss: 1.0162 - acc: 0.4444\n",
      "Epoch 16/20\n",
      "9/9 [==============================] - 0s 249us/step - loss: 1.0146 - acc: 0.4444\n",
      "Epoch 17/20\n",
      "9/9 [==============================] - 0s 383us/step - loss: 1.0129 - acc: 0.4444\n",
      "Epoch 18/20\n",
      "9/9 [==============================] - 0s 172us/step - loss: 1.0113 - acc: 0.4444\n",
      "Epoch 19/20\n",
      "9/9 [==============================] - 0s 168us/step - loss: 1.0097 - acc: 0.4444\n",
      "Epoch 20/20\n",
      "9/9 [==============================] - 0s 324us/step - loss: 1.0081 - acc: 0.4444\n"
     ]
    },
    {
     "data": {
      "text/plain": [
       "<tensorflow.python.keras.callbacks.History at 0x1a2069cc88>"
      ]
     },
     "execution_count": 7,
     "metadata": {},
     "output_type": "execute_result"
    }
   ],
   "source": [
    "# train model\n",
    "model1 = keras.Sequential([keras.layers.Dense(1, input_dim=2,activation='sigmoid')])\n",
    "model1.compile(optimizer='sgd',loss='binary_crossentropy',metrics=['accuracy'])\n",
    "model1.fit(X_tr,y_tr,epochs=20)"
   ]
  },
  {
   "cell_type": "code",
   "execution_count": 8,
   "metadata": {},
   "outputs": [
    {
     "name": "stdout",
     "output_type": "stream",
     "text": [
      "3/3 [==============================] - 0s 12ms/step\n",
      "0.5592702031135559 0.6666666865348816\n"
     ]
    }
   ],
   "source": [
    "# test model\n",
    "test1_loss, test1_acc = model1.evaluate(X_ts, y_ts)\n",
    "print(test1_loss, test1_acc)"
   ]
  },
  {
   "cell_type": "markdown",
   "metadata": {},
   "source": [
    "### multi-layer perceptrons (MLPs)"
   ]
  },
  {
   "cell_type": "code",
   "execution_count": 27,
   "metadata": {},
   "outputs": [
    {
     "name": "stdout",
     "output_type": "stream",
     "text": [
      "Epoch 1/20\n",
      "9/9 [==============================] - 0s 42ms/step - loss: 0.6042 - acc: 1.0000\n",
      "Epoch 2/20\n",
      "9/9 [==============================] - 0s 171us/step - loss: 0.6021 - acc: 1.0000\n",
      "Epoch 3/20\n",
      "9/9 [==============================] - 0s 220us/step - loss: 0.5999 - acc: 1.0000\n",
      "Epoch 4/20\n",
      "9/9 [==============================] - 0s 233us/step - loss: 0.5977 - acc: 1.0000\n",
      "Epoch 5/20\n",
      "9/9 [==============================] - 0s 203us/step - loss: 0.5956 - acc: 1.0000\n",
      "Epoch 6/20\n",
      "9/9 [==============================] - 0s 313us/step - loss: 0.5934 - acc: 1.0000\n",
      "Epoch 7/20\n",
      "9/9 [==============================] - 0s 211us/step - loss: 0.5913 - acc: 1.0000\n",
      "Epoch 8/20\n",
      "9/9 [==============================] - 0s 237us/step - loss: 0.5892 - acc: 1.0000\n",
      "Epoch 9/20\n",
      "9/9 [==============================] - 0s 332us/step - loss: 0.5875 - acc: 1.0000\n",
      "Epoch 10/20\n",
      "9/9 [==============================] - 0s 215us/step - loss: 0.5859 - acc: 1.0000\n",
      "Epoch 11/20\n",
      "9/9 [==============================] - 0s 327us/step - loss: 0.5842 - acc: 1.0000\n",
      "Epoch 12/20\n",
      "9/9 [==============================] - 0s 333us/step - loss: 0.5826 - acc: 1.0000\n",
      "Epoch 13/20\n",
      "9/9 [==============================] - 0s 242us/step - loss: 0.5809 - acc: 1.0000\n",
      "Epoch 14/20\n",
      "9/9 [==============================] - 0s 283us/step - loss: 0.5794 - acc: 1.0000\n",
      "Epoch 15/20\n",
      "9/9 [==============================] - 0s 314us/step - loss: 0.5777 - acc: 1.0000\n",
      "Epoch 16/20\n",
      "9/9 [==============================] - 0s 267us/step - loss: 0.5761 - acc: 1.0000\n",
      "Epoch 17/20\n",
      "9/9 [==============================] - 0s 528us/step - loss: 0.5743 - acc: 1.0000\n",
      "Epoch 18/20\n",
      "9/9 [==============================] - 0s 212us/step - loss: 0.5726 - acc: 1.0000\n",
      "Epoch 19/20\n",
      "9/9 [==============================] - 0s 333us/step - loss: 0.5709 - acc: 1.0000\n",
      "Epoch 20/20\n",
      "9/9 [==============================] - 0s 219us/step - loss: 0.5693 - acc: 1.0000\n"
     ]
    },
    {
     "data": {
      "text/plain": [
       "<tensorflow.python.keras.callbacks.History at 0x1a23b48c88>"
      ]
     },
     "execution_count": 27,
     "metadata": {},
     "output_type": "execute_result"
    }
   ],
   "source": [
    "# 2 hidden layers\n",
    "model2 = keras.Sequential([keras.layers.Dense(10, activation=tf.nn.relu), \n",
    "                           keras.layers.Dense(4, activation=tf.nn.relu), \n",
    "                           keras.layers.Dense(1, activation=tf.nn.sigmoid)])\n",
    "model2.compile(optimizer=tf.train.AdamOptimizer(),loss='binary_crossentropy',metrics=['accuracy'])\n",
    "model2.fit(X_tr,y_tr,epochs=20)"
   ]
  },
  {
   "cell_type": "code",
   "execution_count": 28,
   "metadata": {},
   "outputs": [
    {
     "name": "stdout",
     "output_type": "stream",
     "text": [
      "3/3 [==============================] - 0s 32ms/step\n",
      "0.5945124626159668 1.0\n"
     ]
    }
   ],
   "source": [
    "test2_loss, test2_acc = model2.evaluate(X_ts, y_ts)\n",
    "print(test2_loss, test2_acc)"
   ]
  },
  {
   "cell_type": "markdown",
   "metadata": {},
   "source": [
    "### compare"
   ]
  },
  {
   "cell_type": "code",
   "execution_count": 31,
   "metadata": {},
   "outputs": [
    {
     "data": {
      "text/plain": [
       "Text(0.5,1,'')"
      ]
     },
     "execution_count": 31,
     "metadata": {},
     "output_type": "execute_result"
    },
    {
     "data": {
      "image/png": "[encoded data removed]",
      "text/plain": [
       "<matplotlib.figure.Figure at 0x1a2404c978>"
      ]
     },
     "metadata": {},
     "output_type": "display_data"
    }
   ],
   "source": [
    "plt.xticks([])\n",
    "plt.yticks([])\n",
    "plt.bar(range(2),[test1_acc, test2_acc], color='red')\n",
    "plt.bar(range(2),[test1_loss, test2_loss],tick_label=['Logistic','MLP'])\n",
    "plt.title('')"
   ]
  },
  {
   "cell_type": "code",
   "execution_count": 32,
   "metadata": {},
   "outputs": [
    {
     "data": {
      "text/plain": [
       "-0.03524225950241089"
      ]
     },
     "execution_count": 32,
     "metadata": {},
     "output_type": "execute_result"
    }
   ],
   "source": [
    "test1_loss-test2_loss"
   ]
  },
  {
   "cell_type": "code",
   "execution_count": 33,
   "metadata": {},
   "outputs": [
    {
     "data": {
      "text/plain": [
       "-0.3333333134651184"
      ]
     },
     "execution_count": 33,
     "metadata": {},
     "output_type": "execute_result"
    }
   ],
   "source": [
    "test1_acc-test2_acc"
   ]
  },
  {
   "cell_type": "markdown",
   "metadata": {},
   "source": [
    "# Problem 3\n",
    "The original MNIST data has 10 categories. Our new task is to take only two categories: digit 4 and digit 8 and train a classifier. You are suggested to compare two models:\n",
    "\n",
    "One hidden layer MLP with cross entropy loss\n",
    "One hidden layer MLP with hinge loss\n",
    "(bonus) MLP with two and three hidden layers"
   ]
  },
  {
   "cell_type": "code",
   "execution_count": 36,
   "metadata": {
    "collapsed": true
   },
   "outputs": [],
   "source": [
    "# load data \n",
    "(X_train, y_train), (X_test, y_test) = keras.datasets.mnist.load_data()"
   ]
  },
  {
   "cell_type": "code",
   "execution_count": 37,
   "metadata": {
    "collapsed": true
   },
   "outputs": [],
   "source": [
    "# pick data with label 4 or label 8\n",
    "cond0=np.logical_or(y_train==4,y_train==8)\n",
    "X_tr = X_train[np.where(cond0)[0],:]\n",
    "y_tr=y_train[np.where(cond0)]\n",
    "\n",
    "cond1=np.logical_or(y_test==4,y_test==8)\n",
    "X_ts = X_test[np.where(cond1)[0],:]\n",
    "y_ts=y_test[np.where(cond1)]"
   ]
  },
  {
   "cell_type": "code",
   "execution_count": 14,
   "metadata": {},
   "outputs": [
    {
     "name": "stdout",
     "output_type": "stream",
     "text": [
      "[4 4 8 ... 8 8 8]\n",
      "[4 4 4 ... 4 8 4]\n"
     ]
    }
   ],
   "source": [
    "# check labels\n",
    "print(y_tr)\n",
    "print(y_ts)"
   ]
  },
  {
   "cell_type": "markdown",
   "metadata": {},
   "source": [
    "### process data"
   ]
  },
  {
   "cell_type": "code",
   "execution_count": 38,
   "metadata": {},
   "outputs": [
    {
     "data": {
      "text/plain": [
       "<tf.Tensor 'Cast_1:0' shape=(1956, 28, 28) dtype=float32>"
      ]
     },
     "execution_count": 38,
     "metadata": {},
     "output_type": "execute_result"
    }
   ],
   "source": [
    "# 'Change the type of xs to float32'\n",
    "tf.cast(X_tr, tf.float32)\n",
    "tf.cast(X_ts, tf.float32)"
   ]
  },
  {
   "cell_type": "code",
   "execution_count": 39,
   "metadata": {
    "collapsed": true
   },
   "outputs": [],
   "source": [
    "# 'Every pixel is from 0 to 255. Renormalize it to 0 and 1'\n",
    "X_tr = X_tr/255.0 # why not 256\n",
    "X_ts = X_ts/255.0"
   ]
  },
  {
   "cell_type": "code",
   "execution_count": 40,
   "metadata": {},
   "outputs": [
    {
     "name": "stdout",
     "output_type": "stream",
     "text": [
      "[0, 0, 1]\n",
      "[0, 0, 0]\n",
      "11693 1956\n"
     ]
    }
   ],
   "source": [
    "# Reshape the label vectors ys if necessary\n",
    "y_tr = [0 if y_tr[i]==4 else 1 for i in range(len(y_tr))]\n",
    "y_ts = [0 if y_ts[i]==4 else 1 for i in range(len(y_ts))]\n",
    "\n",
    "print(y_tr[:3])\n",
    "print(y_ts[:3])\n",
    "print(len(y_tr),len(y_ts))\n",
    "#tmp.index(8)"
   ]
  },
  {
   "cell_type": "code",
   "execution_count": 30,
   "metadata": {},
   "outputs": [
    {
     "data": {
      "image/png": "[encoded data removed]",
      "text/plain": [
       "<matplotlib.figure.Figure at 0x1826fb70b8>"
      ]
     },
     "metadata": {},
     "output_type": "display_data"
    }
   ],
   "source": [
    "# explore data\n",
    "plt.figure(figsize=(10,10))\n",
    "for i in range(25):\n",
    "    plt.subplot(5,5,i+1)\n",
    "    plt.xticks([])\n",
    "    plt.yticks([])\n",
    "    plt.grid(False)\n",
    "    plt.imshow(X_tr[i])\n",
    "    plt.xlabel(y_tr[i])\n",
    "plt.show()"
   ]
  },
  {
   "cell_type": "markdown",
   "metadata": {},
   "source": [
    "### train data "
   ]
  },
  {
   "cell_type": "code",
   "execution_count": 18,
   "metadata": {
    "collapsed": true
   },
   "outputs": [],
   "source": [
    "# build model\n",
    "# one layer is to reshape the digit pictures ( each with 28x28 pixels) to vectors of 784\n",
    "model = keras.Sequential([keras.layers.Flatten(input_shape=(28,28)), keras.layers.Dense(128, activation=tf.nn.relu),keras.layers.Dense(2,activation=tf.nn.softmax)])"
   ]
  },
  {
   "cell_type": "code",
   "execution_count": 19,
   "metadata": {},
   "outputs": [
    {
     "name": "stdout",
     "output_type": "stream",
     "text": [
      "############## train data with cross entropy loss #################\n",
      "Epoch 1/10\n",
      " - 1s - loss: 0.1331 - acc: 0.9589\n",
      "Epoch 2/10\n",
      " - 0s - loss: 0.0271 - acc: 0.9913\n",
      "Epoch 3/10\n",
      " - 0s - loss: 0.0194 - acc: 0.9939\n",
      "Epoch 4/10\n",
      " - 0s - loss: 0.0158 - acc: 0.9954\n",
      "Epoch 5/10\n",
      " - 0s - loss: 0.0128 - acc: 0.9962\n",
      "Epoch 6/10\n",
      " - 0s - loss: 0.0113 - acc: 0.9968\n",
      "Epoch 7/10\n",
      " - 0s - loss: 0.0087 - acc: 0.9976\n",
      "Epoch 8/10\n",
      " - 0s - loss: 0.0072 - acc: 0.9981\n",
      "Epoch 9/10\n",
      " - 0s - loss: 0.0061 - acc: 0.9984\n",
      "Epoch 10/10\n",
      " - 0s - loss: 0.0054 - acc: 0.9987\n",
      "############## test data with cross entropy loss ##################\n",
      "1956/1956 [==============================] - 0s 63us/step\n",
      "0.012796560327046558 0.9948875255623721\n"
     ]
    }
   ],
   "source": [
    "# 3.1 One hidden layer MLP with cross entropy loss\n",
    "print(\"############## train data with cross entropy loss #################\")\n",
    "model.compile(optimizer=tf.train.AdamOptimizer(), loss='sparse_categorical_crossentropy', metrics=['accuracy'])\n",
    "model.fit(X_tr, y_tr, epochs=10, batch_size=300, verbose=2)\n",
    "print(\"############## test data with cross entropy loss ##################\")\n",
    "test_loss, test_acc = model.evaluate(X_ts,y_ts)\n",
    "print(test_loss, test_acc)"
   ]
  },
  {
   "cell_type": "code",
   "execution_count": 20,
   "metadata": {
    "scrolled": true
   },
   "outputs": [
    {
     "name": "stderr",
     "output_type": "stream",
     "text": [
      "Using TensorFlow backend.\n"
     ]
    },
    {
     "name": "stdout",
     "output_type": "stream",
     "text": [
      "############## train data with hinge loss #################\n",
      "Epoch 1/10\n",
      " - 1s - loss: 0.0073 - acc: 0.9984\n",
      "Epoch 2/10\n",
      " - 0s - loss: 0.0049 - acc: 0.9991\n",
      "Epoch 3/10\n",
      " - 0s - loss: 0.0035 - acc: 0.9996\n",
      "Epoch 4/10\n",
      " - 0s - loss: 0.0026 - acc: 0.9996\n",
      "Epoch 5/10\n",
      " - 0s - loss: 0.0019 - acc: 0.9997\n",
      "Epoch 6/10\n",
      " - 0s - loss: 0.0016 - acc: 0.9997\n",
      "Epoch 7/10\n",
      " - 0s - loss: 0.0012 - acc: 0.9997\n",
      "Epoch 8/10\n",
      " - 0s - loss: 0.0010 - acc: 0.9997\n",
      "Epoch 9/10\n",
      " - 0s - loss: 9.5816e-04 - acc: 0.9997\n",
      "Epoch 10/10\n",
      " - 0s - loss: 7.7440e-04 - acc: 0.9997\n",
      "############## test data with hinge loss ##################\n",
      "1956/1956 [==============================] - 0s 70us/step\n",
      "0.00891186979528829 0.9969325153374233\n"
     ]
    }
   ],
   "source": [
    "# 3.2 One hidden layer MLP with hinge loss\n",
    "import keras\n",
    "from keras.utils import np_utils\n",
    "y_tr = np_utils.to_categorical(y_tr)\n",
    "y_ts = np_utils.to_categorical(y_ts)\n",
    "\n",
    "print(\"############## train data with hinge loss #################\")\n",
    "model.compile(optimizer=tf.train.AdamOptimizer(), loss='categorical_hinge', metrics=['accuracy'])\n",
    "model.fit(X_tr, y_tr, epochs=10, batch_size=300, verbose=2)\n",
    "\n",
    "print(\"############## test data with hinge loss ##################\")\n",
    "test_loss, test_acc = model.evaluate(X_ts,y_ts)\n",
    "print(test_loss, test_acc)"
   ]
  },
  {
   "cell_type": "code",
   "execution_count": 42,
   "metadata": {},
   "outputs": [
    {
     "name": "stdout",
     "output_type": "stream",
     "text": [
      "_________________________________________________________________\n",
      "Layer (type)                 Output Shape              Param #   \n",
      "=================================================================\n",
      "flatten_2 (Flatten)          (None, 784)               0         \n",
      "_________________________________________________________________\n",
      "dense_18 (Dense)             (None, 128)               100480    \n",
      "_________________________________________________________________\n",
      "dense_19 (Dense)             (None, 20)                2580      \n",
      "_________________________________________________________________\n",
      "dense_20 (Dense)             (None, 2)                 42        \n",
      "=================================================================\n",
      "Total params: 103,102\n",
      "Trainable params: 103,102\n",
      "Non-trainable params: 0\n",
      "_________________________________________________________________\n",
      "############## train data with 2 hidden loss #################\n",
      "Epoch 1/10\n",
      " - 1s - loss: 0.1295 - acc: 0.9582\n",
      "Epoch 2/10\n",
      " - 0s - loss: 0.0238 - acc: 0.9923\n",
      "Epoch 3/10\n",
      " - 0s - loss: 0.0165 - acc: 0.9949\n",
      "Epoch 4/10\n",
      " - 0s - loss: 0.0132 - acc: 0.9958\n",
      "Epoch 5/10\n",
      " - 0s - loss: 0.0096 - acc: 0.9974\n",
      "Epoch 6/10\n",
      " - 0s - loss: 0.0075 - acc: 0.9979\n",
      "Epoch 7/10\n",
      " - 0s - loss: 0.0058 - acc: 0.9984\n",
      "Epoch 8/10\n",
      " - 0s - loss: 0.0044 - acc: 0.9991\n",
      "Epoch 9/10\n",
      " - 0s - loss: 0.0033 - acc: 0.9993\n",
      "Epoch 10/10\n",
      " - 0s - loss: 0.0026 - acc: 0.9993\n",
      "############## test data with 2 hidden loss ##################\n",
      "1956/1956 [==============================] - 0s 107us/step\n",
      "0.010024004046949711 0.9964212678936605\n"
     ]
    }
   ],
   "source": [
    "# 3.3 (bonus) MLP with two hidden layers\n",
    "model32 = keras.Sequential([keras.layers.Flatten(input_shape=(28,28)), \n",
    "                            keras.layers.Dense(128, activation=tf.nn.relu), \n",
    "                            keras.layers.Dense(20, activation=tf.nn.relu), \n",
    "                            keras.layers.Dense(2,activation=tf.nn.softmax)])\n",
    "model32.summary()\n",
    "print(\"############## train data with 2 hidden loss #################\")\n",
    "model32.compile(optimizer=tf.train.AdamOptimizer(), loss='sparse_categorical_crossentropy', metrics=['accuracy'])\n",
    "model32.fit(X_tr, y_tr, epochs=10, batch_size=300, verbose=2)\n",
    "\n",
    "print(\"############## test data with 2 hidden loss ##################\")\n",
    "test_loss, test_acc = model32.evaluate(X_ts,y_ts)\n",
    "print(test_loss, test_acc)"
   ]
  },
  {
   "cell_type": "code",
   "execution_count": 40,
   "metadata": {},
   "outputs": [
    {
     "name": "stdout",
     "output_type": "stream",
     "text": [
      "############## train data with 3 hidden loss #################\n",
      "Epoch 1/10\n",
      "11693/11693 [==============================] - 1s 85us/step - loss: 0.1404 - acc: 0.9578\n",
      "Epoch 2/10\n",
      "11693/11693 [==============================] - 0s 28us/step - loss: 0.0207 - acc: 0.9928\n",
      "Epoch 3/10\n",
      "11693/11693 [==============================] - 0s 24us/step - loss: 0.0150 - acc: 0.9957\n",
      "Epoch 4/10\n",
      "11693/11693 [==============================] - 0s 22us/step - loss: 0.0110 - acc: 0.9968\n",
      "Epoch 5/10\n",
      "11693/11693 [==============================] - 0s 22us/step - loss: 0.0114 - acc: 0.9962\n",
      "Epoch 6/10\n",
      "11693/11693 [==============================] - 0s 22us/step - loss: 0.0066 - acc: 0.9979\n",
      "Epoch 7/10\n",
      "11693/11693 [==============================] - 0s 21us/step - loss: 0.0052 - acc: 0.9985\n",
      "Epoch 8/10\n",
      "11693/11693 [==============================] - 0s 26us/step - loss: 0.0029 - acc: 0.9995\n",
      "Epoch 9/10\n",
      "11693/11693 [==============================] - 0s 25us/step - loss: 0.0019 - acc: 0.9997\n",
      "Epoch 10/10\n",
      "11693/11693 [==============================] - 0s 22us/step - loss: 0.0014 - acc: 0.9997\n",
      "############## test data with 3 hidden loss ##################\n",
      "1956/1956 [==============================] - 0s 172us/step\n",
      "0.012366452581242275 0.9969325153374233\n"
     ]
    }
   ],
   "source": [
    "# 3.3 (bonus) MLP with three hidden layers\n",
    "model33 = keras.Sequential([keras.layers.Flatten(input_shape=(28,28)), \n",
    "                            keras.layers.Dense(128, activation=tf.nn.relu),\n",
    "                            keras.layers.Dense(20, activation=tf.nn.relu),\n",
    "                            keras.layers.Dense(25, activation=tf.nn.relu), \n",
    "                            keras.layers.Dense(2,activation=tf.nn.softmax)])\n",
    "print(\"############## train data with 3 hidden loss #################\")\n",
    "model33.compile(optimizer=tf.train.AdamOptimizer(), loss='categorical_crossentropy', metrics=['accuracy'])\n",
    "model33.fit(X_tr, y_tr, epochs=10, batch_size=300, verbose=1)\n",
    "\n",
    "print(\"############## test data with 3 hidden loss ##################\")\n",
    "test_loss, test_acc = model33.evaluate(X_ts,y_ts)\n",
    "print(test_loss, test_acc)"
   ]
  }
 ],
 "metadata": {
  "kernelspec": {
   "display_name": "Python 3",
   "language": "python",
   "name": "python3"
  }
 },
 "nbformat": 4,
 "nbformat_minor": 2
}
