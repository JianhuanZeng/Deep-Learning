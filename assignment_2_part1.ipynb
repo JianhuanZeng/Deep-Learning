{
 "cells": [
  {
   "cell_type": "markdown",
   "metadata": {
    "colab_type": "text",
    "id": "Is2FwLPEpxwp"
   },
   "source": [
    "# Load data"
   ]
  },
  {
   "cell_type": "code",
   "execution_count": 0,
   "metadata": {
    "colab": {},
    "colab_type": "code",
    "collapsed": true,
    "id": "jGdnvfh-70Fd"
   },
   "outputs": [],
   "source": [
    "import tensorflow as tf\n",
    "from tensorflow import keras\n",
    "import numpy as np\n",
    "\n",
    "%matplotlib inline\n",
    "import matplotlib.pyplot as plt\n",
    "import os"
   ]
  },
  {
   "cell_type": "code",
   "execution_count": 2,
   "metadata": {
    "colab": {
     "base_uri": "https://localhost:8080/",
     "height": 91
    },
    "colab_type": "code",
    "executionInfo": {
     "elapsed": 1445,
     "status": "ok",
     "timestamp": 1539461037247,
     "user": {
      "displayName": "Jianhuan Zeng",
      "photoUrl": "",
      "userId": "03066657233006930088"
     },
     "user_tz": 240
    },
    "id": "s13bZVcL70Ny",
    "outputId": "6416fbfe-fe95-48a6-b891-e5895a4cd71c"
   },
   "outputs": [
    {
     "name": "stdout",
     "output_type": "stream",
     "text": [
      "Downloading data from https://storage.googleapis.com/tensorflow/tf-keras-datasets/mnist.npz\n",
      "11493376/11490434 [==============================] - 0s 0us/step\n"
     ]
    }
   ],
   "source": [
    "mnist = tf.keras.datasets.mnist\n",
    "\n",
    "# Dataset will be cached locally after you run this code\n",
    "(x_train, y_train), (x_test, y_test) = mnist.load_data()\n",
    "\n",
    "# Normalize pixel values to [0, 1]\n",
    "x_train, x_test = x_train / 255.0, x_test / 255.0\n",
    "\n",
    "# These types are required for the operation we use to compute\n",
    "# loss. Omit, and you shall receive a cryptic error message.\n",
    "y_train = y_train.astype(np.int32)\n",
    "y_test = y_test.astype(np.int32)"
   ]
  },
  {
   "cell_type": "code",
   "execution_count": 0,
   "metadata": {
    "colab": {},
    "colab_type": "code",
    "collapsed": true,
    "id": "WjGpIbkS70U7"
   },
   "outputs": [],
   "source": [
    "buffer_size = 5000\n",
    "batch_size = 100\n",
    "epochs = 10\n",
    "train_dataset = tf.data.Dataset.from_tensor_slices((x_train, y_train)).shuffle(buffer_size)\n",
    "train_dataset = train_dataset.batch(batch_size)\n",
    "\n",
    "early_stopping = keras.callbacks.EarlyStopping(monitor='val_loss',\n",
    "    min_delta=0.001, patience=1, verbose=1)"
   ]
  },
  {
   "cell_type": "markdown",
   "metadata": {
    "colab_type": "text",
    "id": "c7pTkhWb74LV"
   },
   "source": [
    "# Q1: A Linear model"
   ]
  },
  {
   "cell_type": "code",
   "execution_count": 0,
   "metadata": {
    "colab": {},
    "colab_type": "code",
    "collapsed": true,
    "id": "KQ-comH07urH"
   },
   "outputs": [],
   "source": [
    "# set a model\n",
    "linear_model = keras.models.Sequential()\n",
    "linear_model.add(keras.layers.Flatten(input_shape=(28,28)))\n",
    "linear_model.add(keras.layers.Dense(10,activation='softmax'))\n",
    "linear_model.compile(optimizer=tf.train.GradientDescentOptimizer(learning_rate=0.1),\n",
    "                     loss='sparse_categorical_crossentropy', metrics=['accuracy'])"
   ]
  },
  {
   "cell_type": "code",
   "execution_count": 74,
   "metadata": {
    "colab": {
     "base_uri": "https://localhost:8080/",
     "height": 522
    },
    "colab_type": "code",
    "executionInfo": {
     "elapsed": 4325,
     "status": "ok",
     "timestamp": 1539471655202,
     "user": {
      "displayName": "Jianhuan Zeng",
      "photoUrl": "",
      "userId": "03066657233006930088"
     },
     "user_tz": 240
    },
    "id": "x4UxWls1CCTb",
    "outputId": "86f286ae-f922-436a-c8e5-cafd8ae4516a"
   },
   "outputs": [
    {
     "name": "stdout",
     "output_type": "stream",
     "text": [
      "Train on 60000 samples, validate on 10000 samples\n",
      "Epoch 1/10\n",
      "60000/60000 [==============================] - 1s 23us/step - loss: 0.2777 - acc: 0.9227 - val_loss: 0.2782 - val_acc: 0.9219\n",
      "Epoch 2/10\n",
      "60000/60000 [==============================] - 1s 23us/step - loss: 0.2762 - acc: 0.9232 - val_loss: 0.2742 - val_acc: 0.9228\n",
      "Epoch 3/10\n",
      "60000/60000 [==============================] - 1s 23us/step - loss: 0.2742 - acc: 0.9238 - val_loss: 0.2735 - val_acc: 0.9224\n",
      "Epoch 00003: early stopping\n"
     ]
    }
   ],
   "source": [
    "# train the model\n",
    "history = linear_model.fit(x_train, y_train, batch_size=batch_size,\n",
    "          epochs=epochs, verbose=1, validation_data=(x_test, y_test),\n",
    "          callbacks=[early_stopping])"
   ]
  },
  {
   "cell_type": "code",
   "execution_count": 76,
   "metadata": {
    "colab": {
     "base_uri": "https://localhost:8080/",
     "height": 88
    },
    "colab_type": "code",
    "executionInfo": {
     "elapsed": 516,
     "status": "ok",
     "timestamp": 1539471669809,
     "user": {
      "displayName": "Jianhuan Zeng",
      "photoUrl": "",
      "userId": "03066657233006930088"
     },
     "user_tz": 240
    },
    "id": "XQ8G5ReQpPo0",
    "outputId": "d9235e34-cd14-4542-9eeb-836f4804c114"
   },
   "outputs": [
    {
     "name": "stdout",
     "output_type": "stream",
     "text": [
      "10000/10000 [==============================] - 0s 27us/step\n",
      "The test loss of the linear model is 0.27351299231350423, and test_accuracy is 92.0%\n",
      "This is a good model with test_accuracy 0.92\n"
     ]
    }
   ],
   "source": [
    "# evaluate the model\n",
    "test_loss, test_accuracy = linear_model.evaluate(x_test, y_test, verbose=1)\n",
    "print('The test loss of the linear model is {}, and test_accuracy is {}%'.format(test_loss, round(test_accuracy*100)))\n",
    "if test_accuracy > 0.8:\n",
    "  print('This is a good model with test_accuracy %.2f' % test_accuracy)\n",
    "else:\n",
    "  print('The model with test_accuracy %.2f' % test_accuracy, 'is not good enough! ')"
   ]
  },
  {
   "cell_type": "markdown",
   "metadata": {
    "colab_type": "text",
    "id": "0K57yKI9AKNZ"
   },
   "source": [
    "# Q2: A Deep model"
   ]
  },
  {
   "cell_type": "code",
   "execution_count": 0,
   "metadata": {
    "colab": {},
    "colab_type": "code",
    "collapsed": true,
    "id": "WkOhdVTW-hu9"
   },
   "outputs": [],
   "source": [
    "# set a model\n",
    "deep_model = keras.models.Sequential()\n",
    "deep_model.add(keras.layers.Flatten(input_shape=x_train.shape[1:]))\n",
    "deep_model.add(keras.layers.Dense(512, activation=tf.nn.relu))\n",
    "deep_model.add(keras.layers.Dropout(0.2))\n",
    "deep_model.add(tf.keras.layers.Dense(10, activation=tf.nn.softmax))\n",
    "deep_model.compile(optimizer=tf.train.GradientDescentOptimizer(learning_rate=0.1),\n",
    "                   loss='sparse_categorical_crossentropy',\n",
    "                   metrics=['accuracy'])"
   ]
  },
  {
   "cell_type": "code",
   "execution_count": 88,
   "metadata": {
    "colab": {
     "base_uri": "https://localhost:8080/",
     "height": 1020
    },
    "colab_type": "code",
    "executionInfo": {
     "elapsed": 111168,
     "status": "ok",
     "timestamp": 1539473380132,
     "user": {
      "displayName": "Jianhuan Zeng",
      "photoUrl": "",
      "userId": "03066657233006930088"
     },
     "user_tz": 240
    },
    "id": "EASNG6IrPTjs",
    "outputId": "ab5971ae-ff2f-4aae-dc89-2d413137332e"
   },
   "outputs": [
    {
     "name": "stdout",
     "output_type": "stream",
     "text": [
      "Epoch 1/10\n",
      "59900/60000 [============================>.] - ETA: 0s - loss: 0.0692 - acc: 0.9807WARNING:tensorflow:Early stopping conditioned on metric `val_loss` which is not available. Available metrics are: loss,acc\n",
      "60000/60000 [==============================] - 9s 142us/step - loss: 0.0693 - acc: 0.9807\n",
      "Epoch 2/10\n",
      "59800/60000 [============================>.] - ETA: 0s - loss: 0.0660 - acc: 0.9817WARNING:tensorflow:Early stopping conditioned on metric `val_loss` which is not available. Available metrics are: loss,acc\n",
      "60000/60000 [==============================] - 11s 177us/step - loss: 0.0659 - acc: 0.9817\n",
      "Epoch 3/10\n",
      "59800/60000 [============================>.] - ETA: 0s - loss: 0.0616 - acc: 0.9828WARNING:tensorflow:Early stopping conditioned on metric `val_loss` which is not available. Available metrics are: loss,acc\n",
      "60000/60000 [==============================] - 11s 177us/step - loss: 0.0616 - acc: 0.9828\n",
      "Epoch 4/10\n",
      "59700/60000 [============================>.] - ETA: 0s - loss: 0.0574 - acc: 0.9842WARNING:tensorflow:Early stopping conditioned on metric `val_loss` which is not available. Available metrics are: loss,acc\n",
      "60000/60000 [==============================] - 10s 171us/step - loss: 0.0574 - acc: 0.9842\n",
      "Epoch 5/10\n",
      "59700/60000 [============================>.] - ETA: 0s - loss: 0.0537 - acc: 0.9847WARNING:tensorflow:Early stopping conditioned on metric `val_loss` which is not available. Available metrics are: loss,acc\n",
      "60000/60000 [==============================] - 12s 193us/step - loss: 0.0536 - acc: 0.9847\n",
      "Epoch 6/10\n",
      "59900/60000 [============================>.] - ETA: 0s - loss: 0.0516 - acc: 0.9858WARNING:tensorflow:Early stopping conditioned on metric `val_loss` which is not available. Available metrics are: loss,acc\n",
      "60000/60000 [==============================] - 12s 200us/step - loss: 0.0516 - acc: 0.9858\n",
      "Epoch 7/10\n",
      "59800/60000 [============================>.] - ETA: 0s - loss: 0.0476 - acc: 0.9867WARNING:tensorflow:Early stopping conditioned on metric `val_loss` which is not available. Available metrics are: loss,acc\n",
      "60000/60000 [==============================] - 11s 179us/step - loss: 0.0475 - acc: 0.9868\n",
      "Epoch 8/10\n",
      "59800/60000 [============================>.] - ETA: 0s - loss: 0.0456 - acc: 0.9871WARNING:tensorflow:Early stopping conditioned on metric `val_loss` which is not available. Available metrics are: loss,acc\n",
      "60000/60000 [==============================] - 12s 195us/step - loss: 0.0456 - acc: 0.9872\n",
      "Epoch 9/10\n",
      "59900/60000 [============================>.] - ETA: 0s - loss: 0.0434 - acc: 0.9883WARNING:tensorflow:Early stopping conditioned on metric `val_loss` which is not available. Available metrics are: loss,acc\n",
      "60000/60000 [==============================] - 12s 206us/step - loss: 0.0433 - acc: 0.9883\n",
      "Epoch 10/10\n",
      "59700/60000 [============================>.] - ETA: 0s - loss: 0.0411 - acc: 0.9884WARNING:tensorflow:Early stopping conditioned on metric `val_loss` which is not available. Available metrics are: loss,acc\n",
      "60000/60000 [==============================] - 12s 207us/step - loss: 0.0411 - acc: 0.9884\n"
     ]
    }
   ],
   "source": [
    "# test the model\n",
    "history = deep_model.fit(x_train, y_train, batch_size=batch_size,\n",
    "          epochs=epochs, verbose=1, \n",
    "          callbacks=[early_stopping]) #validation_data=(x_test, y_test),"
   ]
  },
  {
   "cell_type": "code",
   "execution_count": 89,
   "metadata": {
    "colab": {
     "base_uri": "https://localhost:8080/",
     "height": 88
    },
    "colab_type": "code",
    "executionInfo": {
     "elapsed": 2809,
     "status": "ok",
     "timestamp": 1539473571572,
     "user": {
      "displayName": "Jianhuan Zeng",
      "photoUrl": "",
      "userId": "03066657233006930088"
     },
     "user_tz": 240
    },
    "id": "qWjAnHNkXVYQ",
    "outputId": "d6c0ffc2-d6f9-4faf-d3de-d321642528db"
   },
   "outputs": [
    {
     "name": "stdout",
     "output_type": "stream",
     "text": [
      "10000/10000 [==============================] - 2s 240us/step\n",
      "The test loss of the deep model is 0.05987, and test_accuracy is 98.0%\n",
      "This is a good model with test_accuracy 0.98\n"
     ]
    }
   ],
   "source": [
    "# evaluate the model\n",
    "test_loss, test_accuracy = deep_model.evaluate(x_test, y_test, verbose=1)\n",
    "print('The test loss of the deep model is {}, and test_accuracy is {}%'.format(round(test_loss,5), round(test_accuracy*100)))\n",
    "if test_accuracy > 0.8:\n",
    "  print('This is a good model with test_accuracy %.2f' % test_accuracy)\n",
    "else:\n",
    "  print('This is a good model ')"
   ]
  }
 ],
 "metadata": {
  "colab": {
   "collapsed_sections": [],
   "name": "assignment2_part1.ipynb",
   "provenance": [],
   "version": "0.3.2"
  },
  "kernelspec": {
   "display_name": "Python 3",
   "language": "python",
   "name": "python3"
  },
  "language_info": {
   "codemirror_mode": {
    "name": "ipython",
    "version": 3
   },
   "file_extension": ".py",
   "mimetype": "text/x-python",
   "name": "python",
   "nbconvert_exporter": "python",
   "pygments_lexer": "ipython3",
   "version": "3.6.3"
  }
 },
 "nbformat": 4,
 "nbformat_minor": 1
}
