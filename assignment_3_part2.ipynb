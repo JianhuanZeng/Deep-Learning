{
 "cells": [
  {
   "cell_type": "code",
   "execution_count": 0,
   "metadata": {
    "colab": {},
    "colab_type": "code",
    "collapsed": true,
    "id": "hccRIS-OWII6"
   },
   "outputs": [],
   "source": [
    "import shutil,os\n",
    "import cv2\n",
    "import scipy.io\n",
    "import tarfile\n",
    "from six.moves.urllib import request\n",
    "\n",
    "import numpy as np \n",
    "import tensorflow as tf\n",
    "from tensorflow import keras\n",
    "\n",
    "\n",
    "%matplotlib inline\n",
    "import matplotlib.pyplot as plt"
   ]
  },
  {
   "cell_type": "markdown",
   "metadata": {
    "colab_type": "text",
    "id": "29FpUSA0WIJE"
   },
   "source": [
    "# Data Loading"
   ]
  },
  {
   "cell_type": "code",
   "execution_count": 0,
   "metadata": {
    "colab": {},
    "colab_type": "code",
    "collapsed": true,
    "id": "qeGjs54eWIJH"
   },
   "outputs": [],
   "source": [
    "# retrieve data from url\n",
    "url = 'http://download.tensorflow.org/example_images/flower_photos.tgz'\n",
    "filename = './flower_photos.tgz'\n",
    "\n",
    "if not os.path.isfile(filename):\n",
    "        request.urlretrieve(url=url, filename=filename)\n",
    "tar = tarfile.open('flower_photos.tgz')\n",
    "tar.extractall()\n",
    "tar.close() \n",
    "\n",
    "input_file = os.path.abspath('flower_photos')"
   ]
  },
  {
   "cell_type": "markdown",
   "metadata": {
    "colab_type": "text",
    "id": "qzBfTmTkWIJO"
   },
   "source": [
    "# Data Processing"
   ]
  },
  {
   "cell_type": "code",
   "execution_count": 0,
   "metadata": {
    "colab": {},
    "colab_type": "code",
    "collapsed": true,
    "id": "j79yyaYLWIJQ"
   },
   "outputs": [],
   "source": [
    "# read files to all_labels and all_files\n",
    "def preprocess_file(input_file):\n",
    "    i=0\n",
    "    flow_index = {}\n",
    "    all_files = []\n",
    "    all_labels = []\n",
    "\n",
    "    for flower in sorted(os.listdir(input_file))[1:]:\n",
    "        flow_index[i] = flower\n",
    "        #flow_index.pop(4, None)\n",
    "        all_labels += len(os.listdir(input_file+'/'+flower))*[i]\n",
    "        for img in os.listdir(input_file+'/'+flower):\n",
    "            all_files.append(input_file+'/'+flower+'/'+img)\n",
    "        i+=1    \n",
    "    return all_files, all_labels, flow_index\n",
    "\n",
    "\n",
    "\n",
    "all_files, all_labels, flow_index = preprocess_file(input_file)\n",
    "N_CLASSES = len(np.unique(all_labels))"
   ]
  },
  {
   "cell_type": "code",
   "execution_count": 4,
   "metadata": {
    "colab": {
     "base_uri": "https://localhost:8080/",
     "height": 34.0
    },
    "colab_type": "code",
    "executionInfo": {
     "elapsed": 342.0,
     "status": "ok",
     "timestamp": 1.541621071467E12,
     "user": {
      "displayName": "Jianhuan Zeng",
      "photoUrl": "",
      "userId": "03066657233006930088"
     },
     "user_tz": 300.0
    },
    "id": "b5uKTSKZWIJV",
    "outputId": "f2c724e2-a5e1-4a43-d28c-0aa6e0bfe2ba"
   },
   "outputs": [
    {
     "data": {
      "text/plain": [
       "{0: 'daisy', 1: 'dandelion', 2: 'roses', 3: 'sunflowers', 4: 'tulips'}"
      ]
     },
     "execution_count": 4,
     "metadata": {
      "tags": []
     },
     "output_type": "execute_result"
    }
   ],
   "source": [
    "flow_index"
   ]
  },
  {
   "cell_type": "code",
   "execution_count": 8,
   "metadata": {
    "colab": {
     "base_uri": "https://localhost:8080/",
     "height": 357.0
    },
    "colab_type": "code",
    "executionInfo": {
     "elapsed": 216.0,
     "status": "ok",
     "timestamp": 1.541621335907E12,
     "user": {
      "displayName": "Jianhuan Zeng",
      "photoUrl": "",
      "userId": "03066657233006930088"
     },
     "user_tz": 300.0
    },
    "id": "6ImE8g_kPari",
    "outputId": "f534fb9b-0215-452d-a7fa-c81c80b584b2"
   },
   "outputs": [
    {
     "data": {
      "text/plain": [
       "(['/content/flower_photos/daisy/2365428551_39f83f10bf_n.jpg',\n",
       "  '/content/flower_photos/dandelion/8270191872_61e47ae3b8_m.jpg',\n",
       "  '/content/flower_photos/roses/3903276582_fe05bf84c7_n.jpg',\n",
       "  '/content/flower_photos/sunflowers/244074259_47ce6d3ef9.jpg',\n",
       "  '/content/flower_photos/sunflowers/5330608174_b49f7a4c48_m.jpg',\n",
       "  '/content/flower_photos/dandelion/2470874500_43d8011e75.jpg',\n",
       "  '/content/flower_photos/daisy/835750256_3f91a147ef_n.jpg',\n",
       "  '/content/flower_photos/roses/21522100663_455b77a90c_n.jpg',\n",
       "  '/content/flower_photos/roses/4505921907_21c8002fde.jpg',\n",
       "  '/content/flower_photos/tulips/112428665_d8f3632f36_n.jpg'],\n",
       " ['daisy',\n",
       "  'dandelion',\n",
       "  'roses',\n",
       "  'sunflowers',\n",
       "  'sunflowers',\n",
       "  'dandelion',\n",
       "  'daisy',\n",
       "  'roses',\n",
       "  'roses',\n",
       "  'tulips'])"
      ]
     },
     "execution_count": 8,
     "metadata": {
      "tags": []
     },
     "output_type": "execute_result"
    }
   ],
   "source": [
    "# spilt\n",
    "from sklearn.model_selection import train_test_split\n",
    "files, te_files, labels, te_labels = train_test_split(all_files, all_labels, test_size=0.2, stratify=all_labels)\n",
    "tr_files, va_files, tr_labels, va_labels = train_test_split(files, labels, test_size=0.2, stratify=labels)\n",
    "te_files[:10], [flow_index[i] for i in te_labels[:10]]"
   ]
  },
  {
   "cell_type": "code",
   "execution_count": 6,
   "metadata": {
    "colab": {
     "base_uri": "https://localhost:8080/",
     "height": 102.0
    },
    "colab_type": "code",
    "executionInfo": {
     "elapsed": 283.0,
     "status": "ok",
     "timestamp": 1.541621072364E12,
     "user": {
      "displayName": "Jianhuan Zeng",
      "photoUrl": "",
      "userId": "03066657233006930088"
     },
     "user_tz": 300.0
    },
    "id": "vFbd7ZJ0ZP7V",
    "outputId": "3aa833a2-b2ee-4a7e-f796-7dfd40206838"
   },
   "outputs": [
    {
     "data": {
      "text/plain": [
       "{0: 3.188976377952756,\n",
       " 1: 3.212290502793296,\n",
       " 2: 3.203125,\n",
       " 3: 3.192857142857143,\n",
       " 4: 3.19375}"
      ]
     },
     "execution_count": 6,
     "metadata": {
      "tags": []
     },
     "output_type": "execute_result"
    }
   ],
   "source": [
    "unique, counts1 = np.unique(tr_labels, return_counts=True)\n",
    "unique, counts2 = np.unique(te_labels, return_counts=True)\n",
    "dict(zip(unique, counts1/counts2))"
   ]
  },
  {
   "cell_type": "code",
   "execution_count": 0,
   "metadata": {
    "colab": {},
    "colab_type": "code",
    "collapsed": true,
    "id": "kz4O6Q04WIJq"
   },
   "outputs": [],
   "source": [
    "# create directories\n",
    "os.mkdir(input_file+'/'+'train_dir')\n",
    "os.mkdir(input_file+'/'+'validation_dir')\n",
    "os.mkdir(input_file+'/'+'test_dir')\n",
    "         \n",
    "for i_class in flow_index.values():\n",
    "    os.mkdir(input_file+'/'+'train_dir'+'/'+i_class)\n",
    "    os.mkdir(input_file+'/'+'validation_dir'+'/'+i_class)\n",
    "    os.mkdir(input_file+'/'+'test_dir'+'/'+i_class)\n",
    "\n",
    "    \n",
    "# move file\n",
    "def move_file_to_dir(files,labels, sub_dir, input_file=input_file):\n",
    "    for i,src in enumerate(files):\n",
    "        dst = input_file+'/'+sub_dir+'/'+flow_index[labels[i]]\n",
    "        shutil.copy(src, dst)\n",
    "   "
   ]
  },
  {
   "cell_type": "code",
   "execution_count": 0,
   "metadata": {
    "colab": {},
    "colab_type": "code",
    "collapsed": true,
    "id": "C2uvzH3Ay4Wf"
   },
   "outputs": [],
   "source": [
    "move_file_to_dir(tr_files, tr_labels,'train_dir')\n",
    "move_file_to_dir(va_files, va_labels,  'validation_dir') \n",
    "move_file_to_dir(te_files, te_labels, 'test_dir') "
   ]
  },
  {
   "cell_type": "code",
   "execution_count": 0,
   "metadata": {
    "colab": {},
    "colab_type": "code",
    "collapsed": true,
    "id": "BIIQeRkKwwE7"
   },
   "outputs": [],
   "source": [
    "train_dir = input_file+'/'+'train_dir'\n",
    "validation_dir = input_file+'/'+'validation_dir' \n",
    "test_dir = input_file+'/'+'test_dir'"
   ]
  },
  {
   "cell_type": "markdown",
   "metadata": {
    "colab_type": "text",
    "id": "0SVVM3SkWIJ9"
   },
   "source": [
    "#  Fine-Tuning  with Base Model: inception_v3"
   ]
  },
  {
   "cell_type": "code",
   "execution_count": 12,
   "metadata": {
    "colab": {
     "base_uri": "https://localhost:8080/",
     "height": 371.0
    },
    "colab_type": "code",
    "executionInfo": {
     "elapsed": 12460.0,
     "status": "ok",
     "timestamp": 1.541621405786E12,
     "user": {
      "displayName": "Jianhuan Zeng",
      "photoUrl": "",
      "userId": "03066657233006930088"
     },
     "user_tz": 300.0
    },
    "id": "XOL7BMkXxQdU",
    "outputId": "59cf3624-c58b-4317-c249-a78721e69fc3"
   },
   "outputs": [
    {
     "name": "stdout",
     "output_type": "stream",
     "text": [
      "Downloading data from https://github.com/fchollet/deep-learning-models/releases/download/v0.5/inception_v3_weights_tf_dim_ordering_tf_kernels_notop.h5\n",
      "87916544/87910968 [==============================] - 2s 0us/step\n",
      "This is the number of trainable weights before freezing the base_model: 188\n"
     ]
    }
   ],
   "source": [
    "# create the base pre-trained model\n",
    "from tensorflow.keras.applications.inception_v3 import InceptionV3\n",
    "base_model = InceptionV3(weights='imagenet', include_top=False)\n",
    "print('This is the number of trainable weights '\n",
    "      'before freezing the base_model:', len(base_model.trainable_weights))"
   ]
  },
  {
   "cell_type": "code",
   "execution_count": 0,
   "metadata": {
    "colab": {},
    "colab_type": "code",
    "collapsed": true,
    "id": "TjmuW3SsWIJ-"
   },
   "outputs": [],
   "source": [
    "# add layers\n",
    "model = keras.models.Sequential()\n",
    "model.add(base_model)\n",
    "model.add(keras.layers.GlobalAveragePooling2D())\n",
    "model.add(keras.layers.Flatten())\n",
    "model.add(keras.layers.Dense(256,activation = 'relu'))\n",
    "model.add(keras.layers.Dropout(0.5))\n",
    "model.add(keras.layers.Dense(N_CLASSES, activation=\"softmax\"))\n"
   ]
  },
  {
   "cell_type": "code",
   "execution_count": 14,
   "metadata": {
    "colab": {
     "base_uri": "https://localhost:8080/",
     "height": 34.0
    },
    "colab_type": "code",
    "executionInfo": {
     "elapsed": 269.0,
     "status": "ok",
     "timestamp": 1.54162141079E12,
     "user": {
      "displayName": "Jianhuan Zeng",
      "photoUrl": "",
      "userId": "03066657233006930088"
     },
     "user_tz": 300.0
    },
    "id": "pLuTVqkiIlPW",
    "outputId": "90592938-5a6e-4e23-fd2f-f3d2650bd083"
   },
   "outputs": [
    {
     "name": "stdout",
     "output_type": "stream",
     "text": [
      "This is the number of trainable weights after freezing the base_model: 100\n"
     ]
    }
   ],
   "source": [
    "# fixed params to reduce computation\n",
    "'''scape from online resource'''\n",
    "# set all layers trainable by default  \n",
    "for layer in base_model.layers:\n",
    "    layer.trainable = True\n",
    "    if isinstance(layer, keras.layers.BatchNormalization):\n",
    "        # we do aggressive exponential smoothing of batch norm\n",
    "        # parameters to faster adjust to our new dataset\n",
    "        layer.momentum = 0.9\n",
    "    \n",
    "    \n",
    "# fix deep layers (fine-tuning only last 25)\n",
    "for layer in base_model.layers[:-25]:\n",
    "    # fix all but batch norm layers, because we neeed to update moving averages for a new dataset!\n",
    "    if not isinstance(layer, keras.layers.BatchNormalization):\n",
    "        layer.trainable = False\n",
    "        \n",
    "# look at base_model     \n",
    "print('This is the number of trainable weights '\n",
    "      'after freezing the base_model:', len(base_model.trainable_weights))"
   ]
  },
  {
   "cell_type": "code",
   "execution_count": 16,
   "metadata": {
    "colab": {
     "base_uri": "https://localhost:8080/",
     "height": 51.0
    },
    "colab_type": "code",
    "executionInfo": {
     "elapsed": 247.0,
     "status": "ok",
     "timestamp": 1.541621411888E12,
     "user": {
      "displayName": "Jianhuan Zeng",
      "photoUrl": "",
      "userId": "03066657233006930088"
     },
     "user_tz": 300.0
    },
    "id": "JHqYFwg2WIKI",
    "outputId": "28797c57-845b-4753-f6a0-8019bc1b07fe"
   },
   "outputs": [
    {
     "name": "stdout",
     "output_type": "stream",
     "text": [
      "311\n",
      "6\n"
     ]
    }
   ],
   "source": [
    "# look at models\n",
    "print(len(base_model.layers))\n",
    "print(len(model.layers))"
   ]
  },
  {
   "cell_type": "code",
   "execution_count": 15,
   "metadata": {
    "colab": {
     "base_uri": "https://localhost:8080/",
     "height": 51.0
    },
    "colab_type": "code",
    "executionInfo": {
     "elapsed": 752.0,
     "status": "ok",
     "timestamp": 1.541621411606E12,
     "user": {
      "displayName": "Jianhuan Zeng",
      "photoUrl": "",
      "userId": "03066657233006930088"
     },
     "user_tz": 300.0
    },
    "id": "fhRtSytYWIJ2",
    "outputId": "97eab4ba-bf81-4438-ccc0-9dcde5db8029"
   },
   "outputs": [
    {
     "name": "stdout",
     "output_type": "stream",
     "text": [
      "Found 3176 images belonging to 5 classes.\n",
      "Found 734 images belonging to 5 classes.\n"
     ]
    }
   ],
   "source": [
    "# data generator\n",
    "from tensorflow.keras.preprocessing.image import ImageDataGenerator\n",
    "\n",
    "train_datagen = ImageDataGenerator(\n",
    "      rescale=1./255,\n",
    "      rotation_range=40,\n",
    "      width_shift_range=0.2,\n",
    "      height_shift_range=0.2,\n",
    "      zoom_range=0.2,\n",
    "      horizontal_flip=True,\n",
    "      fill_mode='nearest')\n",
    "\n",
    "\n",
    "# Note that the validation data should not be augmented!\n",
    "test_datagen = ImageDataGenerator(rescale=1./255)\n",
    "\n",
    "\n",
    "\n",
    "train_generator = train_datagen.flow_from_directory(\n",
    "        train_dir,\n",
    "        target_size=(200, 200),\n",
    "        batch_size=10,\n",
    "        class_mode='categorical')\n",
    "\n",
    "validation_generator = test_datagen.flow_from_directory(\n",
    "        test_dir,\n",
    "        target_size=(200, 200),\n",
    "        batch_size=10,\n",
    "        class_mode='categorical')\n"
   ]
  },
  {
   "cell_type": "code",
   "execution_count": 0,
   "metadata": {
    "colab": {},
    "colab_type": "code",
    "collapsed": true,
    "id": "8kV06pxsWIKO"
   },
   "outputs": [],
   "source": [
    "# compile\n",
    "model.compile(  loss = \"categorical_crossentropy\", \n",
    "                optimizer = keras.optimizers.RMSprop(lr=1e-3), \n",
    "                metrics = [\"accuracy\"] )"
   ]
  },
  {
   "cell_type": "markdown",
   "metadata": {
    "colab_type": "text",
    "id": "tEAK4faUWIKM"
   },
   "source": [
    "# Train and Test Model "
   ]
  },
  {
   "cell_type": "code",
   "execution_count": 0,
   "metadata": {
    "colab": {},
    "colab_type": "code",
    "collapsed": true,
    "id": "KduJFb9PWIKR"
   },
   "outputs": [],
   "source": [
    "# prepare for train\n",
    "checkpoint = keras.callbacks.ModelCheckpoint(\"ass3_flowers.h5\", \n",
    "                                             monitor='val_acc', verbose=1, \n",
    "                                             save_best_only=True, \n",
    "                                             save_weights_only=False, mode='auto', period=1)\n",
    "\n",
    "\n",
    "early_stopping = keras.callbacks.EarlyStopping(monitor='val_acc', \n",
    "                                               min_delta=0.001, patience=2, \n",
    "                                               verbose=1, mode='auto')"
   ]
  },
  {
   "cell_type": "code",
   "execution_count": 0,
   "metadata": {
    "colab": {},
    "colab_type": "code",
    "collapsed": true,
    "id": "9p1jxX_1WIKU"
   },
   "outputs": [],
   "source": [
    "train = True\n",
    "last_finished_epoch = 0 "
   ]
  },
  {
   "cell_type": "code",
   "execution_count": 21,
   "metadata": {
    "colab": {
     "base_uri": "https://localhost:8080/",
     "height": 1020.0
    },
    "colab_type": "code",
    "executionInfo": {
     "elapsed": 2404973.0,
     "status": "ok",
     "timestamp": 1.541624565696E12,
     "user": {
      "displayName": "Jianhuan Zeng",
      "photoUrl": "",
      "userId": "03066657233006930088"
     },
     "user_tz": 300.0
    },
    "id": "ufZYXyz3WIKW",
    "outputId": "53a17316-b53c-4575-abd3-f2f6bf6b6ae3"
   },
   "outputs": [
    {
     "name": "stdout",
     "output_type": "stream",
     "text": [
      "Epoch 1/50\n",
      " 99/100 [============================>.] - ETA: 4s - loss: 0.9525 - acc: 0.6983\n",
      "Epoch 00001: val_acc improved from -inf to 0.82400, saving model to ass3_flowers.h5\n",
      "100/100 [==============================] - 456s 5s/step - loss: 0.9474 - acc: 0.6993 - val_loss: 0.5190 - val_acc: 0.8240\n",
      "Epoch 2/50\n",
      " 99/100 [============================>.] - ETA: 4s - loss: 0.8770 - acc: 0.6818\n",
      "Epoch 00002: val_acc did not improve from 0.82400\n",
      "100/100 [==============================] - 457s 5s/step - loss: 0.8729 - acc: 0.6840 - val_loss: 0.5557 - val_acc: 0.8160\n",
      "Epoch 3/50\n",
      " 99/100 [============================>.] - ETA: 4s - loss: 0.9058 - acc: 0.6677\n",
      "Epoch 00003: val_acc improved from 0.82400 to 0.84400, saving model to ass3_flowers.h5\n",
      "100/100 [==============================] - 463s 5s/step - loss: 0.9047 - acc: 0.6670 - val_loss: 0.4305 - val_acc: 0.8440\n",
      "Epoch 4/50\n",
      " 99/100 [============================>.] - ETA: 4s - loss: 0.7218 - acc: 0.7394\n",
      "Epoch 00004: val_acc improved from 0.84400 to 0.85600, saving model to ass3_flowers.h5\n",
      "100/100 [==============================] - 461s 5s/step - loss: 0.7252 - acc: 0.7380 - val_loss: 0.4671 - val_acc: 0.8560\n",
      "Epoch 5/50\n",
      " 99/100 [============================>.] - ETA: 4s - loss: 0.7640 - acc: 0.7293\n",
      "Epoch 00005: val_acc did not improve from 0.85600\n",
      "100/100 [==============================] - 458s 5s/step - loss: 0.7590 - acc: 0.7310 - val_loss: 0.4922 - val_acc: 0.8080\n",
      "Epoch 6/50\n",
      " 99/100 [============================>.] - ETA: 4s - loss: 0.7195 - acc: 0.7596\n",
      "Epoch 00006: val_acc did not improve from 0.85600\n",
      "100/100 [==============================] - 454s 5s/step - loss: 0.7390 - acc: 0.7560 - val_loss: 0.5864 - val_acc: 0.8360\n",
      "Epoch 00006: early stopping\n"
     ]
    }
   ],
   "source": [
    "# train\n",
    "if train:\n",
    "    history = model.fit_generator(train_generator, \n",
    "        steps_per_epoch= 100,\n",
    "        epochs=50,\n",
    "        validation_data=validation_generator, \n",
    "        validation_steps=25 , \n",
    "        callbacks=[checkpoint, early_stopping],\n",
    "        verbose=1,\n",
    "        initial_epoch=last_finished_epoch)\n",
    "    model.save_weights('epochs_weights.h5')"
   ]
  },
  {
   "cell_type": "code",
   "execution_count": 22,
   "metadata": {
    "colab": {
     "base_uri": "https://localhost:8080/",
     "height": 543.0
    },
    "colab_type": "code",
    "executionInfo": {
     "elapsed": 734.0,
     "status": "ok",
     "timestamp": 1.541624566448E12,
     "user": {
      "displayName": "Jianhuan Zeng",
      "photoUrl": "",
      "userId": "03066657233006930088"
     },
     "user_tz": 300.0
    },
    "id": "Jlgt8zsWWIKb",
    "outputId": "3dd417e3-9d56-44b2-9d61-50d4ed58b230"
   },
   "outputs": [
    {
     "data": {
      "image/png": "[encoded data removed]",
      "text/plain": [
       "<matplotlib.figure.Figure at 0x7fc43291e6a0>"
      ]
     },
     "metadata": {
      "tags": []
     },
     "output_type": "display_data"
    },
    {
     "data": {
      "image/png": "[encoded data removed]",
      "text/plain": [
       "<matplotlib.figure.Figure at 0x7fc432f3c438>"
      ]
     },
     "metadata": {
      "tags": []
     },
     "output_type": "display_data"
    }
   ],
   "source": [
    "acc = history.history['acc']\n",
    "val_acc = history.history['val_acc']\n",
    "loss = history.history['loss']\n",
    "val_loss = history.history['val_loss']\n",
    "\n",
    "epochs = range(len(acc))\n",
    "\n",
    "plt.plot(epochs, acc, 'bo', label='Training acc')\n",
    "plt.plot(epochs, val_acc, 'b', label='Validation acc')\n",
    "plt.title('Training and validation accuracy(fine-tuning)')\n",
    "plt.legend()\n",
    "\n",
    "plt.figure()\n",
    "\n",
    "plt.plot(epochs, loss, 'bo', label='Training loss')\n",
    "plt.plot(epochs, val_loss, 'b', label='Validation loss')\n",
    "plt.title('Training and validation loss(fine-tuning)')\n",
    "plt.legend()\n",
    "\n",
    "plt.show()"
   ]
  },
  {
   "cell_type": "code",
   "execution_count": 24,
   "metadata": {
    "colab": {
     "base_uri": "https://localhost:8080/",
     "height": 68.0
    },
    "colab_type": "code",
    "executionInfo": {
     "elapsed": 98861.0,
     "status": "ok",
     "timestamp": 1.541624931678E12,
     "user": {
      "displayName": "Jianhuan Zeng",
      "photoUrl": "",
      "userId": "03066657233006930088"
     },
     "user_tz": 300.0
    },
    "id": "AEt4S12WWIKf",
    "outputId": "c49fee03-b4c1-4a99-dcc6-3cb8b4b73b0f"
   },
   "outputs": [
    {
     "name": "stdout",
     "output_type": "stream",
     "text": [
      "Found 734 images belonging to 5 classes.\n",
      "Test loss: 0.6304232575771375\n",
      "Test accuracy: 0.8319919578266336\n"
     ]
    }
   ],
   "source": [
    "# test\n",
    "test_datagen = ImageDataGenerator(rescale=1./255)\n",
    "test_generator = test_datagen.flow_from_directory(\n",
    "        test_dir,\n",
    "        target_size=(200, 200),\n",
    "        batch_size=20,\n",
    "        class_mode='categorical')\n",
    "\n",
    "\n",
    "score = model.evaluate_generator(test_generator, steps=50)\n",
    "print('Test loss:', score[0])\n",
    "print('Test accuracy:', score[1]) "
   ]
  }
 ],
 "metadata": {
  "accelerator": "TPU",
  "colab": {
   "name": "assignment_3_part2.ipynb",
   "provenance": [],
   "toc_visible": true,
   "version": "0.3.2"
  },
  "kernelspec": {
   "display_name": "Python 3",
   "language": "python",
   "name": "python3"
  },
  "language_info": {
   "codemirror_mode": {
    "name": "ipython",
    "version": 3
   },
   "file_extension": ".py",
   "mimetype": "text/x-python",
   "name": "python",
   "nbconvert_exporter": "python",
   "pygments_lexer": "ipython3",
   "version": "3.6.3"
  }
 },
 "nbformat": 4,
 "nbformat_minor": 1
}
