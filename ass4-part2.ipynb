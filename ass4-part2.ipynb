{
 "cells": [
  {
   "cell_type": "code",
   "execution_count": 0,
   "metadata": {
    "id": "6ao-JFaulDlA",
    "colab_type": "code",
    "colab": {}
   },
   "outputs": [],
   "source": [
    "import tensorflow as tf\n",
    "tf.enable_eager_execution()\n",
    "\n",
    "from tensorflow.keras.preprocessing.text import Tokenizer\n",
    "from tensorflow.keras.preprocessing.sequence import pad_sequences\n",
    "\n",
    "import csv\n",
    "import matplotlib.pyplot as plt\n",
    "import numpy as np\n",
    "import os"
   ]
  },
  {
   "cell_type": "code",
   "execution_count": 0,
   "metadata": {
    "id": "Bmm0DUpnlNAw",
    "colab_type": "code",
    "outputId": "a3aaf1d0-8061-4f55-ad12-e4e554df6350",
    "executionInfo": {
     "status": "ok",
     "timestamp": 1.543251521514E12,
     "user_tz": 300.0,
     "elapsed": 2616.0,
     "user": {
      "displayName": "Jianhuan Zeng",
      "photoUrl": "",
      "userId": "03066657233006930088"
     }
    },
    "colab": {
     "base_uri": "https://localhost:8080/",
     "height": 269.0
    }
   },
   "outputs": [
    {
     "name": "stdout",
     "output_type": "stream",
     "text": [
      "  % Total    % Received % Xferd  Average Speed   Time    Time     Time  Current\n",
      "                                 Dload  Upload   Total   Spent    Left  Speed\n",
      "\r  0     0    0     0    0     0      0      0 --:--:-- --:--:-- --:--:--     0\r100  323k  100  323k    0     0  1420k      0 --:--:-- --:--:-- --:--:-- 1420k\n",
      "name,red,green,blue\n",
      "parakeet,174,182,87\n",
      "saddle brown,88,52,1\n",
      "cucumber crush,222,237,215\n",
      "pool blue,134,194,201\n",
      "distance,98,110,130\n",
      "light urple,179,111,246\n",
      "east side,172,145,206\n",
      "florida seashells,250,228,199\n",
      "paris,145,167,189\n"
     ]
    }
   ],
   "source": [
    "# Download the colors dataset\n",
    "if not os.path.exists('colors.csv'):\n",
    "  !curl -O 'https://raw.githubusercontent.com/random-forests/datasets/master/colors.csv'\n",
    "!head colors.csv"
   ]
  },
  {
   "cell_type": "markdown",
   "metadata": {
    "id": "Uv5tDgZtzjen",
    "colab_type": "text"
   },
   "source": [
    "# Read the data"
   ]
  },
  {
   "cell_type": "code",
   "execution_count": 0,
   "metadata": {
    "id": "A_hCjUoElOOo",
    "colab_type": "code",
    "outputId": "1ebc2f1a-467d-444c-803b-175af6528ad0",
    "executionInfo": {
     "status": "ok",
     "timestamp": 1.543251521516E12,
     "user_tz": 300.0,
     "elapsed": 2605.0,
     "user": {
      "displayName": "Jianhuan Zeng",
      "photoUrl": "",
      "userId": "03066657233006930088"
     }
    },
    "colab": {
     "base_uri": "https://localhost:8080/",
     "height": 51.0
    }
   },
   "outputs": [
    {
     "name": "stdout",
     "output_type": "stream",
     "text": [
      "14157 colors downloaded\n",
      "For example ('parakeet', 0.6823529411764706, 0.7137254901960784, 0.3411764705882353)\n"
     ]
    }
   ],
   "source": [
    "# Read the data\n",
    "colors_rgb = []\n",
    "csv_reader = csv.reader(open('colors.csv'), delimiter=',')\n",
    "next(csv_reader) # Remove the header\n",
    "for row in csv_reader:\n",
    "    name, r, g, b = row[0].lower().strip(), float(row[1]) / 255.0, float(row[2]) / 255.0, float(row[3]) / 255.0\n",
    "    colors_rgb.append((name, r, g, b))\n",
    "print(len(colors_rgb), 'colors downloaded')\n",
    "print('For example', colors_rgb[0])"
   ]
  },
  {
   "cell_type": "code",
   "execution_count": 0,
   "metadata": {
    "id": "ISanLTTkm2qq",
    "colab_type": "code",
    "colab": {}
   },
   "outputs": [],
   "source": [
    "names = [item[0] for item in colors_rgb]"
   ]
  },
  {
   "cell_type": "code",
   "execution_count": 0,
   "metadata": {
    "id": "L1sjZ_tYnGNE",
    "colab_type": "code",
    "colab": {}
   },
   "outputs": [],
   "source": [
    "maxlen = 25\n",
    "t = Tokenizer(char_level=True)\n",
    "t.fit_on_texts(names)\n",
    "tokenized = t.texts_to_sequences(names)\n",
    "padded_names = pad_sequences(tokenized, maxlen=maxlen)\n",
    "padded_names = padded_names.astype('float32')"
   ]
  },
  {
   "cell_type": "code",
   "execution_count": 0,
   "metadata": {
    "id": "JOQIb8CdnGuV",
    "colab_type": "code",
    "colab": {}
   },
   "outputs": [],
   "source": [
    "r = [item[1] for item in colors_rgb]\n",
    "g = [item[2] for item in colors_rgb]\n",
    "b = [item[3] for item in colors_rgb]\n",
    "targets = np.column_stack([r, g, b])"
   ]
  },
  {
   "cell_type": "code",
   "execution_count": 0,
   "metadata": {
    "id": "ircB4g3louAT",
    "colab_type": "code",
    "outputId": "18e6241f-1ad6-4c30-e85c-e8a31f039149",
    "executionInfo": {
     "status": "ok",
     "timestamp": 1.543251521894E12,
     "user_tz": 300.0,
     "elapsed": 2943.0,
     "user": {
      "displayName": "Jianhuan Zeng",
      "photoUrl": "",
      "userId": "03066657233006930088"
     }
    },
    "colab": {
     "base_uri": "https://localhost:8080/",
     "height": 34.0
    }
   },
   "outputs": [
    {
     "data": {
      "text/plain": [
       "(14157, 3)"
      ]
     },
     "execution_count": 7,
     "metadata": {
      "tags": []
     },
     "output_type": "execute_result"
    }
   ],
   "source": [
    "targets.shape"
   ]
  },
  {
   "cell_type": "markdown",
   "metadata": {
    "id": "9m5V2UjEzl8W",
    "colab_type": "text"
   },
   "source": [
    "# Build the model"
   ]
  },
  {
   "cell_type": "code",
   "execution_count": 0,
   "metadata": {
    "id": "rG_R0s_mnI2O",
    "colab_type": "code",
    "outputId": "7a23a735-291d-4068-e2a4-8c6054c23845",
    "executionInfo": {
     "status": "ok",
     "timestamp": 1.543252259984E12,
     "user_tz": 300.0,
     "elapsed": 561.0,
     "user": {
      "displayName": "Jianhuan Zeng",
      "photoUrl": "",
      "userId": "03066657233006930088"
     }
    },
    "colab": {
     "base_uri": "https://localhost:8080/",
     "height": 329.0
    }
   },
   "outputs": [
    {
     "name": "stdout",
     "output_type": "stream",
     "text": [
      "WARNING:tensorflow:<tensorflow.python.keras.layers.recurrent.LSTM object at 0x7f2eed519a58>: Note that this layer is not optimized for performance. Please use tf.keras.layers.CuDNNLSTM for better performance on GPU.\n",
      "_________________________________________________________________\n",
      "Layer (type)                 Output Shape              Param #   \n",
      "=================================================================\n",
      "reshape_1 (Reshape)          (None, 1, 25)             0         \n",
      "_________________________________________________________________\n",
      "lstm_1 (LSTM)                (None, 128)               78848     \n",
      "_________________________________________________________________\n",
      "dense_2 (Dense)              (None, 64)                8256      \n",
      "_________________________________________________________________\n",
      "dense_3 (Dense)              (None, 3)                 195       \n",
      "=================================================================\n",
      "Total params: 87,299\n",
      "Trainable params: 87,299\n",
      "Non-trainable params: 0\n",
      "_________________________________________________________________\n"
     ]
    }
   ],
   "source": [
    "model = tf.keras.Sequential()\n",
    "model.add(tf.keras.layers.Reshape((1, maxlen), input_shape=(maxlen,)))\n",
    "# FIX ME\n",
    "# model.add(tf.keras.layers.Embedding(40, 128, input_shape=(maxlen,)))\n",
    "# model.add(tf.keras.layers.GRU(128, return_sequences=True))\n",
    "model.add(tf.keras.layers.LSTM(128))\n",
    "model.add(tf.keras.layers.Dense(64, activation='relu'))\n",
    "model.add(tf.keras.layers.Dense(3, activation='sigmoid'))\n",
    "model.compile(optimizer=tf.train.AdamOptimizer(), loss='mse')\n",
    "model.summary()"
   ]
  },
  {
   "cell_type": "code",
   "execution_count": 0,
   "metadata": {
    "id": "sqOfMfWxoGiE",
    "colab_type": "code",
    "outputId": "aad60771-5eec-484c-ff2e-11a587bfcc33",
    "executionInfo": {
     "status": "ok",
     "timestamp": 1.543251690886E12,
     "user_tz": 300.0,
     "elapsed": 171906.0,
     "user": {
      "displayName": "Jianhuan Zeng",
      "photoUrl": "",
      "userId": "03066657233006930088"
     }
    },
    "colab": {
     "base_uri": "https://localhost:8080/",
     "height": 187.0
    }
   },
   "outputs": [
    {
     "name": "stdout",
     "output_type": "stream",
     "text": [
      "Epoch 1/5\n",
      "399/399 [==============================] - 34s 85ms/step - loss: 0.0630 - val_loss: 0.0640\n",
      "Epoch 2/5\n",
      "399/399 [==============================] - 33s 84ms/step - loss: 0.0593 - val_loss: 0.0610\n",
      "Epoch 3/5\n",
      "399/399 [==============================] - 34s 84ms/step - loss: 0.0573 - val_loss: 0.0610\n",
      "Epoch 4/5\n",
      "399/399 [==============================] - 33s 84ms/step - loss: 0.0556 - val_loss: 0.0600\n",
      "Epoch 5/5\n",
      "399/399 [==============================] - 34s 84ms/step - loss: 0.0540 - val_loss: 0.0596\n"
     ]
    }
   ],
   "source": [
    "# we're going to massively overfit on the training\n",
    "# data... that's fine for this experiment\n",
    "history = model.fit(padded_names, targets, epochs=5, validation_split=0.1)"
   ]
  },
  {
   "cell_type": "code",
   "execution_count": 0,
   "metadata": {
    "id": "yzQX11aDoUZ2",
    "colab_type": "code",
    "outputId": "8c9bcf06-1401-4a93-f25d-d58735a61a49",
    "executionInfo": {
     "status": "ok",
     "timestamp": 1.543251691034E12,
     "user_tz": 300.0,
     "elapsed": 172039.0,
     "user": {
      "displayName": "Jianhuan Zeng",
      "photoUrl": "",
      "userId": "03066657233006930088"
     }
    },
    "colab": {
     "base_uri": "https://localhost:8080/",
     "height": 280.0
    }
   },
   "outputs": [
    {
     "data": {
      "image/png": "[encoded data removed]",
      "text/plain": [
       "<matplotlib.figure.Figure at 0x7f2f55f162e8>"
      ]
     },
     "metadata": {
      "tags": []
     },
     "output_type": "display_data"
    }
   ],
   "source": [
    "# let's see how badly we've overfit\n",
    "# (don't worry about it for this assignment)\n",
    "import matplotlib.pyplot as plt\n",
    "%matplotlib inline\n",
    "loss = history.history['loss']\n",
    "val_loss = history.history['val_loss']\n",
    "epochs = range(len(loss))\n",
    "plt.plot(epochs, loss, 'bo')\n",
    "plt.plot(epochs, val_loss, 'b')\n",
    "plt.title('Training and validation loss')\n",
    "plt.show()"
   ]
  },
  {
   "cell_type": "markdown",
   "metadata": {
    "id": "QO1IuNNOz_eb",
    "colab_type": "text"
   },
   "source": [
    "# Predict color R,G,B values"
   ]
  },
  {
   "cell_type": "code",
   "execution_count": 0,
   "metadata": {
    "id": "_IYXreehqc7f",
    "colab_type": "code",
    "colab": {}
   },
   "outputs": [],
   "source": [
    "# plots a color image\n",
    "def plot_rgb(rgb):\n",
    "    data = [[rgb]]\n",
    "    plt.figure(figsize=(2,2))\n",
    "    plt.imshow(data, interpolation='nearest')\n",
    "    plt.axis('off')\n",
    "    plt.show()"
   ]
  },
  {
   "cell_type": "code",
   "execution_count": 0,
   "metadata": {
    "id": "Fc5TsbxQqep1",
    "colab_type": "code",
    "colab": {}
   },
   "outputs": [],
   "source": [
    "def scale(n):\n",
    "    return int(n * 255)"
   ]
  },
  {
   "cell_type": "code",
   "execution_count": 0,
   "metadata": {
    "id": "_e1E5PMTqhcd",
    "colab_type": "code",
    "colab": {}
   },
   "outputs": [],
   "source": [
    "def predict(name):\n",
    "    tokenized = t.texts_to_sequences([name])\n",
    "    padded = pad_sequences(tokenized, maxlen=maxlen)\n",
    "    padded = padded.astype('float32')\n",
    "    pred = model.predict(np.array(padded))[0]\n",
    "    # Check the shapes here if you run into trouble with the next \n",
    "    # method after adding your RNN\n",
    "    print(pred)\n",
    "    r, g, b = scale(pred[0]), scale(pred[1]), scale(pred[2])\n",
    "    print(name + ',', 'R,G,B:', r,g,b)\n",
    "    plot_rgb(pred)"
   ]
  },
  {
   "cell_type": "code",
   "execution_count": 0,
   "metadata": {
    "id": "C2rwJDV9qjJN",
    "colab_type": "code",
    "outputId": "d2c1ad08-c12f-4672-f25a-a8ebcdb36e15",
    "executionInfo": {
     "status": "ok",
     "timestamp": 1.543252201088E12,
     "user_tz": 300.0,
     "elapsed": 703.0,
     "user": {
      "displayName": "Jianhuan Zeng",
      "photoUrl": "",
      "userId": "03066657233006930088"
     }
    },
    "colab": {
     "base_uri": "https://localhost:8080/",
     "height": 539.0
    }
   },
   "outputs": [
    {
     "name": "stdout",
     "output_type": "stream",
     "text": [
      "[0.429574   0.55769295 0.68476   ]\n",
      "light blue, R,G,B: 109 142 174\n"
     ]
    },
    {
     "data": {
      "image/png": "[encoded data removed]",
      "text/plain": [
       "<matplotlib.figure.Figure at 0x7f2f0642a7b8>"
      ]
     },
     "metadata": {
      "tags": []
     },
     "output_type": "display_data"
    },
    {
     "name": "stdout",
     "output_type": "stream",
     "text": [
      "[0.44842866 0.54884696 0.58340997]\n",
      "blue, R,G,B: 114 139 148\n"
     ]
    },
    {
     "data": {
      "image/png": "[encoded data removed]",
      "text/plain": [
       "<matplotlib.figure.Figure at 0x7f2eed61b470>"
      ]
     },
     "metadata": {
      "tags": []
     },
     "output_type": "display_data"
    },
    {
     "name": "stdout",
     "output_type": "stream",
     "text": [
      "[0.43081564 0.44769773 0.53572464]\n",
      "dark blue, R,G,B: 109 114 136\n"
     ]
    },
    {
     "data": {
      "image/png": "[encoded data removed]",
      "text/plain": [
       "<matplotlib.figure.Figure at 0x7f2eed600748>"
      ]
     },
     "metadata": {
      "tags": []
     },
     "output_type": "display_data"
    }
   ],
   "source": [
    "# some \"test\" data\n",
    "predict(\"light blue\")\n",
    "predict(\"blue\")\n",
    "predict(\"dark blue\")"
   ]
  },
  {
   "cell_type": "code",
   "execution_count": 0,
   "metadata": {
    "id": "JMKGBrbq_8st",
    "colab_type": "code",
    "colab": {}
   },
   "outputs": [],
   "source": [
    ""
   ]
  }
 ],
 "metadata": {
  "colab": {
   "name": "ass4-part2.ipynb",
   "version": "0.3.2",
   "provenance": [],
   "collapsed_sections": []
  },
  "kernelspec": {
   "name": "python3",
   "display_name": "Python 3"
  },
  "accelerator": "GPU"
 },
 "nbformat": 4,
 "nbformat_minor": 0
}
