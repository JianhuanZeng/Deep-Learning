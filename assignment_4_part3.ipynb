{
 "cells": [
  {
   "cell_type": "code",
   "execution_count": 0,
   "metadata": {
    "id": "CmO1WEDPp1xy",
    "colab_type": "code",
    "colab": {}
   },
   "outputs": [],
   "source": [
    "import tensorflow as tf\n",
    "tf.enable_eager_execution()\n",
    "\n",
    "import csv\n",
    "import matplotlib.pyplot as plt\n",
    "import numpy as np\n",
    "import os\n",
    "import random\n",
    "import string\n",
    "import time"
   ]
  },
  {
   "cell_type": "code",
   "execution_count": 2,
   "metadata": {
    "id": "3sd_AEJspQJg",
    "colab_type": "code",
    "outputId": "fd3fde1f-06c7-4b0e-c22f-b7544713cc4c",
    "executionInfo": {
     "status": "ok",
     "timestamp": 1.543283852205E12,
     "user_tz": 300.0,
     "elapsed": 2323.0,
     "user": {
      "displayName": "Jianhuan Zeng",
      "photoUrl": "",
      "userId": "03066657233006930088"
     }
    },
    "colab": {
     "base_uri": "https://localhost:8080/",
     "height": 218.0
    }
   },
   "outputs": [
    {
     "name": "stdout",
     "output_type": "stream",
     "text": [
      "name,red,green,blue\n",
      "parakeet,174,182,87\n",
      "saddle brown,88,52,1\n",
      "cucumber crush,222,237,215\n",
      "pool blue,134,194,201\n",
      "distance,98,110,130\n",
      "light urple,179,111,246\n",
      "east side,172,145,206\n",
      "florida seashells,250,228,199\n",
      "paris,145,167,189\n"
     ]
    }
   ],
   "source": [
    "# Download the colors dataset\n",
    "if not os.path.exists('colors.csv'):\n",
    "  !curl -O 'https://raw.githubusercontent.com/random-forests/datasets/master/colors.csv'\n",
    "!head colors.csv"
   ]
  },
  {
   "cell_type": "markdown",
   "metadata": {
    "id": "UWIJo8wx0hqP",
    "colab_type": "text"
   },
   "source": [
    "# Read the data"
   ]
  },
  {
   "cell_type": "code",
   "execution_count": 3,
   "metadata": {
    "id": "mG0WnNZtmxul",
    "colab_type": "code",
    "outputId": "774ae228-537e-4a0d-caf6-a2485b9922ab",
    "executionInfo": {
     "status": "ok",
     "timestamp": 1.543283852206E12,
     "user_tz": 300.0,
     "elapsed": 2310.0,
     "user": {
      "displayName": "Jianhuan Zeng",
      "photoUrl": "",
      "userId": "03066657233006930088"
     }
    },
    "colab": {
     "base_uri": "https://localhost:8080/",
     "height": 71.0
    }
   },
   "outputs": [
    {
     "name": "stdout",
     "output_type": "stream",
     "text": [
      "14157 colors downloaded\n",
      "For example ('parakeet', 174, 182, 87)\n"
     ]
    }
   ],
   "source": [
    "colors_rgb = []\n",
    "csv_reader = csv.reader(open('colors.csv'), delimiter=',')\n",
    "next(csv_reader) # Remove the header\n",
    "for row in csv_reader:\n",
    "    name, r, g, b = row[0].lower().strip(), int(row[1]), int(row[2]), int(row[3])\n",
    "    colors_rgb.append((name, r, g, b))\n",
    "print(len(colors_rgb), 'colors downloaded')\n",
    "print('For example', colors_rgb[0])"
   ]
  },
  {
   "cell_type": "code",
   "execution_count": 4,
   "metadata": {
    "id": "PdIWQdlBrZXA",
    "colab_type": "code",
    "outputId": "3358d247-449e-400b-ad31-a7a95b749016",
    "executionInfo": {
     "status": "ok",
     "timestamp": 1.54328385231E12,
     "user_tz": 300.0,
     "elapsed": 2402.0,
     "user": {
      "displayName": "Jianhuan Zeng",
      "photoUrl": "",
      "userId": "03066657233006930088"
     }
    },
    "colab": {
     "base_uri": "https://localhost:8080/",
     "height": 54.0
    }
   },
   "outputs": [
    {
     "name": "stdout",
     "output_type": "stream",
     "text": [
      "For example: parakeet 174 182 87\n"
     ]
    }
   ],
   "source": [
    "# In this experiment, we will train a char-baed RNN to generate a line of text\n",
    "# that resembles this dataset (we'll treat each line as a string)\n",
    "sentences = []\n",
    "for row in colors_rgb:\n",
    "  line = ' '.join([str(part) for part in row])\n",
    "  sentences.append(line)\n",
    "print('For example:',sentences[0])"
   ]
  },
  {
   "cell_type": "code",
   "execution_count": 5,
   "metadata": {
    "id": "UIN8joxA18Lu",
    "colab_type": "code",
    "colab": {
     "base_uri": "https://localhost:8080/",
     "height": 54.0
    },
    "outputId": "0ac4dacb-911e-4425-a7c4-8f4742a22546",
    "executionInfo": {
     "status": "ok",
     "timestamp": 1.543283852311E12,
     "user_tz": 300.0,
     "elapsed": 2393.0,
     "user": {
      "displayName": "Jianhuan Zeng",
      "photoUrl": "",
      "userId": "03066657233006930088"
     }
    }
   },
   "outputs": [
    {
     "name": "stdout",
     "output_type": "stream",
     "text": [
      "max length: 40\n"
     ]
    }
   ],
   "source": [
    "# max(list(map(lambda x: len(x.split()), sentences))) #6\n",
    "max_length = max(list(map(lambda x: len(x), sentences))) \n",
    "print('max length:', max_length)"
   ]
  },
  {
   "cell_type": "code",
   "execution_count": 6,
   "metadata": {
    "id": "Q_o2oIUNuyWZ",
    "colab_type": "code",
    "outputId": "d806b763-3042-47ba-c75e-9caf51717545",
    "executionInfo": {
     "status": "ok",
     "timestamp": 1.543283852496E12,
     "user_tz": 300.0,
     "elapsed": 2571.0,
     "user": {
      "displayName": "Jianhuan Zeng",
      "photoUrl": "",
      "userId": "03066657233006930088"
     }
    },
    "colab": {
     "base_uri": "https://localhost:8080/",
     "height": 71.0
    }
   },
   "outputs": [
    {
     "name": "stdout",
     "output_type": "stream",
     "text": [
      "vocab size: 38\n",
      "[' ', '0', '1', '2', '3', '4', '5', '6', '7', '8', '9', '<pad>', 'a', 'b', 'c', 'd', 'e', 'f', 'g', 'h', 'i', 'j', 'k', 'l', 'm', 'n', 'o', 'p', 'q', 'r', 's', 't', 'u', 'v', 'w', 'x', 'y', 'z']\n"
     ]
    }
   ],
   "source": [
    "# vocabulary for our char-based RNN\n",
    "chars = set()\n",
    "for sentence in sentences:\n",
    "  for char in sentence:\n",
    "    chars.add(char)\n",
    "    \n",
    "# add a special char for padding\n",
    "chars.add('<pad>')\n",
    "\n",
    "vocab = sorted(set(chars))\n",
    "\n",
    "# Create a mapping from unique characters to indices\n",
    "char2idx = {u : i for i, u in enumerate(vocab)}\n",
    "idx2char = {i : u for i, u in enumerate(vocab)}\n",
    "\n",
    "# Vocab size\n",
    "vocab_size = len(vocab)\n",
    "print('vocab size:', vocab_size)\n",
    "print(vocab)"
   ]
  },
  {
   "cell_type": "markdown",
   "metadata": {
    "id": "mXCb2OEI1DNz",
    "colab_type": "text"
   },
   "source": [
    "# Preprocess data"
   ]
  },
  {
   "cell_type": "code",
   "execution_count": 7,
   "metadata": {
    "colab_type": "code",
    "outputId": "7eaddee5-5333-44ce-8e77-da5deb1a864b",
    "executionInfo": {
     "status": "ok",
     "timestamp": 1.543283852497E12,
     "user_tz": 300.0,
     "elapsed": 2565.0,
     "user": {
      "displayName": "Jianhuan Zeng",
      "photoUrl": "",
      "userId": "03066657233006930088"
     }
    },
    "id": "-U2h_j9B3tRq",
    "colab": {
     "base_uri": "https://localhost:8080/",
     "height": 54.0
    }
   },
   "outputs": [
    {
     "name": "stdout",
     "output_type": "stream",
     "text": [
      "Vectorized sentence example [27, 12, 29, 12, 22, 16, 16, 31, 0, 2, 8, 5, 0, 2, 9, 3, 0, 9, 8]\n"
     ]
    }
   ],
   "source": [
    "# vectorize the text\n",
    "text_int = []\n",
    "for sentence in sentences:\n",
    "  int_sentence = [] \n",
    "  for c in sentence:    int_sentence.append(char2idx[c])\n",
    "  text_int.append(int_sentence)\n",
    "print('Vectorized sentence example', text_int[0])"
   ]
  },
  {
   "cell_type": "code",
   "execution_count": 8,
   "metadata": {
    "colab_type": "code",
    "outputId": "8fb67564-87ae-44cc-df49-98e6e799a328",
    "executionInfo": {
     "status": "ok",
     "timestamp": 1.543283852692E12,
     "user_tz": 300.0,
     "elapsed": 2752.0,
     "user": {
      "displayName": "Jianhuan Zeng",
      "photoUrl": "",
      "userId": "03066657233006930088"
     }
    },
    "id": "YVuU7Pvk3rp-",
    "colab": {
     "base_uri": "https://localhost:8080/",
     "height": 54.0
    }
   },
   "outputs": [
    {
     "name": "stdout",
     "output_type": "stream",
     "text": [
      "Padded sentences:  [27, 12, 29, 12, 22, 16, 16, 31, 0, 2, 8, 5, 0, 2, 9, 3, 0, 9, 8, 11, 11, 11, 11, 11, 11, 11, 11, 11, 11, 11, 11, 11, 11, 11, 11, 11, 11, 11, 11, 11]\n"
     ]
    }
   ],
   "source": [
    "# pad sentences to max_length\n",
    "for sentence in text_int:\n",
    "  while (len(sentence) < max_length):\n",
    "    sentence.append(char2idx['<pad>'])\n",
    "print('Padded sentences: ', text_int[0])"
   ]
  },
  {
   "cell_type": "code",
   "execution_count": 9,
   "metadata": {
    "colab_type": "code",
    "outputId": "a2d9fc44-ef30-4535-ec8d-eaf7a08fdded",
    "executionInfo": {
     "status": "ok",
     "timestamp": 1.543283852693E12,
     "user_tz": 300.0,
     "elapsed": 2743.0,
     "user": {
      "displayName": "Jianhuan Zeng",
      "photoUrl": "",
      "userId": "03066657233006930088"
     }
    },
    "id": "1l-hzKB33q3N",
    "colab": {
     "base_uri": "https://localhost:8080/",
     "height": 54.0
    }
   },
   "outputs": [
    {
     "name": "stdout",
     "output_type": "stream",
     "text": [
      "Truncated sentences [27, 12, 29, 12, 22, 16, 16, 31, 0, 2, 8, 5, 0, 2, 9, 3, 0, 9, 8, 11, 11, 11, 11, 11, 11, 11, 11, 11, 11, 11, 11, 11, 11, 11, 11, 11, 11, 11, 11, 11]\n"
     ]
    }
   ],
   "source": [
    "# truncate all sentences to max_length\n",
    "for i in range(len(text_int)):\n",
    "  sentence = text_int[i]\n",
    "  if len(sentence) > max_length:\n",
    "    text_int[i] = sentence[:max_length]\n",
    "print(\"Truncated sentences\", text_int[0])"
   ]
  },
  {
   "cell_type": "code",
   "execution_count": 10,
   "metadata": {
    "colab_type": "code",
    "outputId": "a75a24a0-00f8-4ca5-87a6-c0636eaaf621",
    "executionInfo": {
     "status": "ok",
     "timestamp": 1.543283852908E12,
     "user_tz": 300.0,
     "elapsed": 2949.0,
     "user": {
      "displayName": "Jianhuan Zeng",
      "photoUrl": "",
      "userId": "03066657233006930088"
     }
    },
    "id": "CCO_Czh63jZv",
    "colab": {
     "base_uri": "https://localhost:8080/",
     "height": 88.0
    }
   },
   "outputs": [
    {
     "name": "stdout",
     "output_type": "stream",
     "text": [
      "First training example, target\n",
      "[27, 12, 29, 12, 22, 16, 16, 31, 0, 2, 8, 5, 0, 2, 9, 3, 0, 9, 8, 11, 11, 11, 11, 11, 11, 11, 11, 11, 11, 11, 11, 11, 11, 11, 11, 11, 11, 11, 11]\n",
      "[12, 29, 12, 22, 16, 16, 31, 0, 2, 8, 5, 0, 2, 9, 3, 0, 9, 8, 11, 11, 11, 11, 11, 11, 11, 11, 11, 11, 11, 11, 11, 11, 11, 11, 11, 11, 11, 11, 11]\n"
     ]
    }
   ],
   "source": [
    "# Create training examples / targets\n",
    "input_text = []\n",
    "target_text = []\n",
    "\n",
    "for i in range(len(text_int)):\n",
    "  inps = text_int[i][:max_length-1]\n",
    "  targ = text_int[i][1:max_length]\n",
    "  input_text.append(inps)\n",
    "  target_text.append(targ)\n",
    "  \n",
    "print(\"First training example, target\")  \n",
    "print(input_text[0])\n",
    "print(target_text[0])"
   ]
  },
  {
   "cell_type": "code",
   "execution_count": 0,
   "metadata": {
    "id": "cjyeDrvGzl8E",
    "colab_type": "code",
    "colab": {}
   },
   "outputs": [],
   "source": [
    "BATCH_SIZE = 64\n",
    "BUFFER_SIZE = 10000\n",
    "\n",
    "dataset = tf.data.Dataset.from_tensor_slices((input_text, target_text))\n",
    "dataset = dataset.shuffle(BUFFER_SIZE).batch(BATCH_SIZE, drop_remainder=True)"
   ]
  },
  {
   "cell_type": "markdown",
   "metadata": {
    "id": "85cH4IwQ0lSC",
    "colab_type": "text"
   },
   "source": [
    "# Model"
   ]
  },
  {
   "cell_type": "code",
   "execution_count": 0,
   "metadata": {
    "id": "TT8ed7cu0w-z",
    "colab_type": "code",
    "colab": {}
   },
   "outputs": [],
   "source": [
    "class Model(tf.keras.Model):\n",
    "  def __init__(self, vocab_size, embedding_dim, units):\n",
    "    super(Model, self).__init__()\n",
    "    self.units = units\n",
    "    \n",
    "    self.embedding = tf.keras.layers.Embedding(vocab_size, embedding_dim)\n",
    "    self.gru = tf.keras.layers.CuDNNGRU(self.units, return_sequences=True, recurrent_initializer='glorot_uniform', stateful = True)\n",
    "    #self.lstm = tf.keras.layers.CuDNNLSTM(self.units,return_sequences=True,recurrent_initializer='glorot_uniform', stateful = True)\n",
    "    self.fc = tf.keras.layers.Dense(vocab_size)\n",
    "    \n",
    "        \n",
    "  def call(self, x):\n",
    "    embedding = self.embedding(x)\n",
    "    hidden = self.gru(embedding)\n",
    "    prediction = self.fc(hidden)\n",
    "    return prediction"
   ]
  },
  {
   "cell_type": "code",
   "execution_count": 0,
   "metadata": {
    "id": "jA8Pssrh1NKE",
    "colab_type": "code",
    "colab": {}
   },
   "outputs": [],
   "source": [
    "# Length of the vocabulary in chars\n",
    "vocab_size = len(vocab)\n",
    "\n",
    "# The embedding dimension \n",
    "# Here, this is basically just a trick to avoid having \n",
    "# to one-hot encode the characters\n",
    "# I don't think it will add much otherwise\n",
    "# this would be more useful if we had a much larger vocabulary\n",
    "embedding_dim = 128\n",
    "\n",
    "# Number of RNN units\n",
    "units = 256\n",
    "\n",
    "\n",
    "\n",
    "model = Model(vocab_size, embedding_dim, units)"
   ]
  },
  {
   "cell_type": "code",
   "execution_count": 0,
   "metadata": {
    "id": "FrSRbSQk1Rcz",
    "colab_type": "code",
    "colab": {}
   },
   "outputs": [],
   "source": [
    "optimizer = tf.train.AdamOptimizer()\n",
    "\n",
    "# Using sparse_softmax_cross_entropy so that we don't have to create one-hot vectors\n",
    "def loss_function(labels, logits):\n",
    "    return tf.losses.sparse_softmax_cross_entropy(labels=labels, logits=logits)"
   ]
  },
  {
   "cell_type": "code",
   "execution_count": 15,
   "metadata": {
    "id": "-AILeTt71UXr",
    "colab_type": "code",
    "outputId": "e88fa0b2-eeae-42b2-8aab-3325ad9fecda",
    "executionInfo": {
     "status": "ok",
     "timestamp": 1.543283854536E12,
     "user_tz": 300.0,
     "elapsed": 4535.0,
     "user": {
      "displayName": "Jianhuan Zeng",
      "photoUrl": "",
      "userId": "03066657233006930088"
     }
    },
    "colab": {
     "base_uri": "https://localhost:8080/",
     "height": 238.0
    }
   },
   "outputs": [
    {
     "name": "stdout",
     "output_type": "stream",
     "text": [
      "_________________________________________________________________\n",
      "Layer (type)                 Output Shape              Param #   \n",
      "=================================================================\n",
      "embedding (Embedding)        multiple                  4864      \n",
      "_________________________________________________________________\n",
      "cu_dnngru (CuDNNGRU)         multiple                  296448    \n",
      "_________________________________________________________________\n",
      "dense (Dense)                multiple                  9766      \n",
      "=================================================================\n",
      "Total params: 311,078\n",
      "Trainable params: 311,078\n",
      "Non-trainable params: 0\n",
      "_________________________________________________________________\n"
     ]
    }
   ],
   "source": [
    "model.build(tf.TensorShape([BATCH_SIZE, max_length]))\n",
    "model.summary()"
   ]
  },
  {
   "cell_type": "code",
   "execution_count": 0,
   "metadata": {
    "id": "gjYtdulr8ukK",
    "colab_type": "code",
    "colab": {}
   },
   "outputs": [],
   "source": [
    "# Directory where the checkpoints will be saved\n",
    "checkpoint_dir = './training_checkpoints'\n",
    "# Name of the checkpoint files\n",
    "checkpoint_prefix = os.path.join(checkpoint_dir, \"ckpt\")\n",
    "# Checkpoint instance\n",
    "checkpoint = tf.train.Checkpoint(optimizer=optimizer, model=model)"
   ]
  },
  {
   "cell_type": "code",
   "execution_count": 17,
   "metadata": {
    "id": "GkLMi8GI1c9b",
    "colab_type": "code",
    "outputId": "38cf0aeb-347b-4e8e-dd3d-e870bd9d3d6a",
    "executionInfo": {
     "status": "ok",
     "timestamp": 1.543283936311E12,
     "user_tz": 300.0,
     "elapsed": 86290.0,
     "user": {
      "displayName": "Jianhuan Zeng",
      "photoUrl": "",
      "userId": "03066657233006930088"
     }
    },
    "colab": {
     "base_uri": "https://localhost:8080/",
     "height": 1037.0
    }
   },
   "outputs": [
    {
     "name": "stdout",
     "output_type": "stream",
     "text": [
      "Epoch 1 Batch 0 Loss 3.6352\n",
      "Epoch 1 Batch 100 Loss 1.4477\n",
      "Epoch 1 Batch 200 Loss 1.1831\n",
      "Epoch 1 Loss 1.2208\n",
      "Time for epoch 9.133504152297974 sec\n",
      "\n",
      "Epoch 2 Batch 0 Loss 1.5012\n",
      "Epoch 2 Batch 100 Loss 1.1366\n",
      "Epoch 2 Batch 200 Loss 1.0864\n",
      "Epoch 2 Loss 1.0293\n",
      "Time for epoch 8.299618482589722 sec\n",
      "\n",
      "Epoch 3 Batch 0 Loss 1.1724\n",
      "Epoch 3 Batch 100 Loss 1.0325\n",
      "Epoch 3 Batch 200 Loss 1.0322\n",
      "Epoch 3 Loss 1.0048\n",
      "Time for epoch 8.224934101104736 sec\n",
      "\n",
      "Epoch 4 Batch 0 Loss 1.0930\n",
      "Epoch 4 Batch 100 Loss 0.9726\n",
      "Epoch 4 Batch 200 Loss 1.0313\n",
      "Epoch 4 Loss 0.9882\n",
      "Time for epoch 8.141822338104248 sec\n",
      "\n",
      "Epoch 5 Batch 0 Loss 1.0379\n",
      "Epoch 5 Batch 100 Loss 0.9700\n",
      "Epoch 5 Batch 200 Loss 0.9406\n",
      "Epoch 5 Loss 0.9447\n",
      "Time for epoch 8.198527812957764 sec\n",
      "\n",
      "Epoch 6 Batch 0 Loss 1.0118\n",
      "Epoch 6 Batch 100 Loss 0.8695\n",
      "Epoch 6 Batch 200 Loss 0.9249\n",
      "Epoch 6 Loss 0.9601\n",
      "Time for epoch 8.241082668304443 sec\n",
      "\n",
      "Epoch 7 Batch 0 Loss 0.9685\n",
      "Epoch 7 Batch 100 Loss 0.9168\n",
      "Epoch 7 Batch 200 Loss 0.8491\n",
      "Epoch 7 Loss 0.9232\n",
      "Time for epoch 7.752175807952881 sec\n",
      "\n",
      "Epoch 8 Batch 0 Loss 0.9601\n",
      "Epoch 8 Batch 100 Loss 0.8772\n",
      "Epoch 8 Batch 200 Loss 0.9433\n",
      "Epoch 8 Loss 0.9167\n",
      "Time for epoch 7.363708972930908 sec\n",
      "\n",
      "Epoch 9 Batch 0 Loss 0.9333\n",
      "Epoch 9 Batch 100 Loss 0.8607\n",
      "Epoch 9 Batch 200 Loss 0.8845\n",
      "Epoch 9 Loss 0.8762\n",
      "Time for epoch 8.092004299163818 sec\n",
      "\n",
      "Epoch 10 Batch 0 Loss 0.9516\n",
      "Epoch 10 Batch 100 Loss 0.8201\n",
      "Epoch 10 Batch 200 Loss 0.8406\n",
      "Epoch 10 Loss 0.8469\n",
      "Time for epoch 7.919182062149048 sec\n",
      "\n"
     ]
    }
   ],
   "source": [
    "EPOCHS = 10\n",
    "losses_i = []\n",
    "\n",
    "for epoch in range(EPOCHS):\n",
    "    start = time.time()\n",
    "    \n",
    "    # initializing the hidden state at the start of every epoch\n",
    "    # initally hidden is None\n",
    "    hidden = model.reset_states()\n",
    "    \n",
    "    for (batch, (input_seq, target_seq)) in enumerate(dataset):\n",
    "          with tf.GradientTape() as tape:\n",
    "              predictions = model(input_seq)\n",
    "              loss = loss_function(target_seq, predictions)\n",
    "              \n",
    "          grads = tape.gradient(loss, model.variables)\n",
    "          optimizer.apply_gradients(zip(grads, model.variables))\n",
    "\n",
    "          if batch % 100 == 0:\n",
    "              print ('Epoch {} Batch {} Loss {:.4f}'.format(epoch+1,\n",
    "                                                            batch,\n",
    "                                                            loss))\n",
    "    losses_i.append(loss)\n",
    "    print ('Epoch {} Loss {:.4f}'.format(epoch+1, loss))\n",
    "    print ('Time for epoch {} sec\\n'.format(time.time() - start))\n",
    "    checkpoint.save(file_prefix = checkpoint_prefix)"
   ]
  },
  {
   "cell_type": "code",
   "execution_count": 22,
   "metadata": {
    "id": "6etrte0l4b0J",
    "colab_type": "code",
    "colab": {
     "base_uri": "https://localhost:8080/",
     "height": 379.0
    },
    "outputId": "7ffc3b42-b0b1-48fc-ac67-0d3c2417c84d",
    "executionInfo": {
     "status": "ok",
     "timestamp": 1.543283989637E12,
     "user_tz": 300.0,
     "elapsed": 459.0,
     "user": {
      "displayName": "Jianhuan Zeng",
      "photoUrl": "",
      "userId": "03066657233006930088"
     }
    }
   },
   "outputs": [
    {
     "data": {
      "text/plain": [
       "Text(0.5,1,'loss')"
      ]
     },
     "execution_count": 22,
     "metadata": {
      "tags": []
     },
     "output_type": "execute_result"
    },
    {
     "data": {
      "image/png": "[encoded data removed]",
      "text/plain": [
       "<matplotlib.figure.Figure at 0x7fd5413631d0>"
      ]
     },
     "metadata": {
      "tags": []
     },
     "output_type": "display_data"
    }
   ],
   "source": [
    "plt.plot(losses_i)\n",
    "plt.title('loss')"
   ]
  },
  {
   "cell_type": "code",
   "execution_count": 19,
   "metadata": {
    "id": "0U_cmqGP8dwg",
    "colab_type": "code",
    "outputId": "022b841f-f4ef-4a40-e0e5-07d6f80e8047",
    "executionInfo": {
     "status": "ok",
     "timestamp": 1.543283937292E12,
     "user_tz": 300.0,
     "elapsed": 87260.0,
     "user": {
      "displayName": "Jianhuan Zeng",
      "photoUrl": "",
      "userId": "03066657233006930088"
     }
    },
    "colab": {
     "base_uri": "https://localhost:8080/",
     "height": 235.0
    }
   },
   "outputs": [
    {
     "name": "stdout",
     "output_type": "stream",
     "text": [
      "checkpoint\t\t     ckpt-5.data-00000-of-00001\n",
      "ckpt-10.data-00000-of-00001  ckpt-5.index\n",
      "ckpt-10.index\t\t     ckpt-6.data-00000-of-00001\n",
      "ckpt-1.data-00000-of-00001   ckpt-6.index\n",
      "ckpt-1.index\t\t     ckpt-7.data-00000-of-00001\n",
      "ckpt-2.data-00000-of-00001   ckpt-7.index\n",
      "ckpt-2.index\t\t     ckpt-8.data-00000-of-00001\n",
      "ckpt-3.data-00000-of-00001   ckpt-8.index\n",
      "ckpt-3.index\t\t     ckpt-9.data-00000-of-00001\n",
      "ckpt-4.data-00000-of-00001   ckpt-9.index\n",
      "ckpt-4.index\n"
     ]
    }
   ],
   "source": [
    "!ls {checkpoint_dir}"
   ]
  },
  {
   "cell_type": "code",
   "execution_count": 0,
   "metadata": {
    "id": "0K3VLTVT81rt",
    "colab_type": "code",
    "colab": {}
   },
   "outputs": [],
   "source": [
    "# This is a hack to let us use the model with a different \n",
    "# batch size later\n",
    "model = Model(vocab_size, embedding_dim, units)\n",
    "checkpoint = tf.train.Checkpoint(model=model)\n",
    "checkpoint.restore(tf.train.latest_checkpoint(checkpoint_dir))\n",
    "model.build(tf.TensorShape([1, None]))"
   ]
  },
  {
   "cell_type": "markdown",
   "metadata": {
    "id": "w_R5KG3C0bE9",
    "colab_type": "text"
   },
   "source": [
    "# Evaluation step (generating text using the learned model)"
   ]
  },
  {
   "cell_type": "code",
   "execution_count": 21,
   "metadata": {
    "id": "Le_MRIFI1tRL",
    "colab_type": "code",
    "outputId": "fe7a72e9-0b63-444c-cdfa-be5475bf7a3f",
    "executionInfo": {
     "status": "ok",
     "timestamp": 1.543283938042E12,
     "user_tz": 300.0,
     "elapsed": 87995.0,
     "user": {
      "displayName": "Jianhuan Zeng",
      "photoUrl": "",
      "userId": "03066657233006930088"
     }
    },
    "colab": {
     "base_uri": "https://localhost:8080/",
     "height": 383.0
    }
   },
   "outputs": [
    {
     "name": "stdout",
     "output_type": "stream",
     "text": [
      "ege blue 67 130 115\n"
     ]
    },
    {
     "data": {
      "image/png": "[encoded data removed]",
      "text/plain": [
       "<matplotlib.figure.Figure at 0x7fd5876681d0>"
      ]
     },
     "metadata": {
      "tags": []
     },
     "output_type": "display_data"
    }
   ],
   "source": [
    "\n",
    "# Number of characters to generate\n",
    "num_generate = max_length\n",
    "\n",
    "# You can change the start string to experiment\n",
    "start_string = random.choice(string.ascii_lowercase)\n",
    "\n",
    "# Converting our start string to numbers (vectorizing) \n",
    "input_eval = [char2idx[s] for s in start_string]\n",
    "input_eval = tf.expand_dims(input_eval, 0)\n",
    "\n",
    "# Empty string to store our results\n",
    "text_generated = []\n",
    "\n",
    "# Low temperatures results in more predictable text.\n",
    "# Higher temperatures results in more surprising text.\n",
    "# Experiment to find the best setting.\n",
    "temperature = 0.5\n",
    "\n",
    "# Here batch size == 1\n",
    "model.reset_states()\n",
    "for i in range(num_generate):\n",
    "    predictions = model(input_eval)\n",
    "    # remove the batch dimension\n",
    "    predictions = tf.squeeze(predictions, 0)\n",
    "\n",
    "    # using a multinomial distribution to predict the word returned by the model\n",
    "    predictions = predictions / temperature\n",
    "    predicted_id = tf.multinomial(predictions, num_samples=1)[-1,0].numpy()\n",
    "    \n",
    "    # We pass the predicted word as the next input to the model\n",
    "    # along with the previous hidden state\n",
    "    input_eval = tf.expand_dims([predicted_id], 0)\n",
    "    \n",
    "    text_generated.append(idx2char[predicted_id])\n",
    "\n",
    "generated_color = start_string + ''.join(text_generated).replace('<pad>', '')\n",
    "print(generated_color)\n",
    "\n",
    "try:\n",
    "  parts = generated_color.split()\n",
    "  r = float(parts[-3])\n",
    "  g = float(parts[-2])\n",
    "  b = float(parts[-1])\n",
    "  plt.clf()\n",
    "  _ = plt.imshow([[(r, g, b)]])\n",
    "  _ = plt.axis('off')\n",
    "  _ = plt.title(generated_color, fontsize=18)\n",
    "except:\n",
    "  print('unable to parse color')"
   ]
  }
 ],
 "metadata": {
  "colab": {
   "name": "ass4-part3.ipynb",
   "version": "0.3.2",
   "provenance": [],
   "collapsed_sections": []
  },
  "kernelspec": {
   "name": "python3",
   "display_name": "Python 3"
  },
  "accelerator": "GPU"
 },
 "nbformat": 4,
 "nbformat_minor": 0
}
